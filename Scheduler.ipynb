{
 "cells": [
  {
   "cell_type": "code",
   "execution_count": 1,
   "metadata": {},
   "outputs": [],
   "source": [
    "\n",
    "from sim import *"
   ]
  },
  {
   "cell_type": "code",
   "execution_count": 2,
   "metadata": {},
   "outputs": [
    {
     "name": "stdout",
     "output_type": "stream",
     "text": [
      "Lattice {0: [1, 2], 1: [3], 2: [3], 3: [4], 4: []}\n",
      "[4]\n"
     ]
    }
   ],
   "source": [
    "op4 = Operator(4,[],8)\n",
    "op3 = Operator(3,[4],6,is_join=True)\n",
    "op2 = Operator(2,[3],4)\n",
    "op1 = Operator(1,[3],2)\n",
    "op0 = Operator(0,[1,2],10)\n",
    "\n",
    "lat = Lattice([op0,op1,op2,op3,op4])\n",
    "\n",
    "print(lat)\n",
    "print (lat.get_children(3))\n",
    "\n",
    "# Lattice {0: [1, 2], 1: [3], 2: [3], 3: [4], 4: []}\n",
    "# [4]"
   ]
  },
  {
   "cell_type": "markdown",
   "metadata": {},
   "source": [
    "``` \n",
    "v1 -> v3 -> v4\n",
    "^      ^   \n",
    "|      |\n",
    "v0 ->  v2\n",
    "```"
   ]
  },
  {
   "cell_type": "code",
   "execution_count": 3,
   "metadata": {},
   "outputs": [
    {
     "data": {
      "text/plain": [
       "(<Event 1; Running Op 0; Available at Time 0; Executed 0 to 3; Deadline: None>,\n",
       " [<Event 1; Running Op 1; Available at Time 3; Executed None to None; Deadline: None>,\n",
       "  <Event 1; Running Op 2; Available at Time 3; Executed None to None; Deadline: None>])"
      ]
     },
     "execution_count": 3,
     "metadata": {},
     "output_type": "execute_result"
    }
   ],
   "source": [
    "event_queue = []\n",
    "e = Event(1,0,0)\n",
    "e.start(lat,0)\n",
    "for i in range(10):\n",
    "    e.step()\n",
    "e.finish(event_queue,lat,2)\n",
    "e,event_queue\n",
    "# (<Event 1; Running Op 0; Available at Time 0; Executed 0 to 2>,\n",
    "#  [<Event 1; Running Op 1; Available at Time 2; Executed None to None>,\n",
    "#   <Event 1; Running Op 2; Available at Time 2; Executed None to None>])\n"
   ]
  },
  {
   "cell_type": "code",
   "execution_count": 4,
   "metadata": {},
   "outputs": [
    {
     "data": {
      "text/plain": [
       "Worker 1: [<Event 7; Running Op 4; Available at Time 2; Executed 2 to None; Deadline: None>]"
      ]
     },
     "execution_count": 4,
     "metadata": {},
     "output_type": "execute_result"
    }
   ],
   "source": [
    "w = Worker(1)\n",
    "w.do_job(Event(7,4,2),lat,2)\n",
    "w # Worker 1: [<Event 7; Running Op 4; Available at Time 2>]"
   ]
  },
  {
   "cell_type": "code",
   "execution_count": 5,
   "metadata": {},
   "outputs": [
    {
     "name": "stdout",
     "output_type": "stream",
     "text": [
      "ERROR: worker not unique [1]\n"
     ]
    },
    {
     "data": {
      "text/plain": [
       "Worker Pool: \n",
       "Worker 1: [<Event 7; Running Op 4; Available at Time 2; Executed 2 to None; Deadline: None>]"
      ]
     },
     "execution_count": 5,
     "metadata": {},
     "output_type": "execute_result"
    }
   ],
   "source": [
    "wp = WorkerPool([])\n",
    "v = Worker(1)\n",
    "wp.add_workers([w,v])\n",
    "# ERROR: worker not unique [1]\n",
    "\n",
    "wp\n",
    "# Worker Pool: \n",
    "# Worker 1: [<Event 7; Running Op 4; Available at Time 2>]"
   ]
  },
  {
   "cell_type": "code",
   "execution_count": 6,
   "metadata": {},
   "outputs": [
    {
     "data": {
      "text/plain": [
       "Worker Pool: \n",
       "Worker 1: []"
      ]
     },
     "execution_count": 6,
     "metadata": {},
     "output_type": "execute_result"
    }
   ],
   "source": [
    "wp1 = WorkerPool([])\n",
    "wp1.add_worker(v)\n",
    "wp1"
   ]
  },
  {
   "cell_type": "code",
   "execution_count": 7,
   "metadata": {
    "scrolled": true
   },
   "outputs": [
    {
     "name": "stdout",
     "output_type": "stream",
     "text": [
      "Activate: <Event 2; Running Op 0; Available at Time 4; Executed None to None; Deadline: None>\n",
      "finished event: <Event 2; Running Op 0; Available at Time 4; Executed 4 to 14; Deadline: None>\n",
      "finished event: <Event 2; Running Op 1; Available at Time 14; Executed 14 to 16; Deadline: None>\n",
      "finished event: <Event 2; Running Op 2; Available at Time 14; Executed 16 to 20; Deadline: None>\n",
      "finished event: <Event 2; Running Op 3; Available at Time 20; Executed 20 to 26; Deadline: None>\n",
      "finished event: <Event 2; Running Op 4; Available at Time 26; Executed 26 to 34; Deadline: None>\n",
      "Activate: <Event 5; Running Op 0; Available at Time 40; Executed None to None; Deadline: None>\n",
      "finished event: <Event 5; Running Op 0; Available at Time 40; Executed 40 to 50; Deadline: None>\n",
      "finished event: <Event 5; Running Op 1; Available at Time 50; Executed 50 to 52; Deadline: None>\n",
      "finished event: <Event 5; Running Op 2; Available at Time 50; Executed 52 to 56; Deadline: None>\n",
      "finished event: <Event 5; Running Op 3; Available at Time 56; Executed 56 to 62; Deadline: None>\n",
      "finished event: <Event 5; Running Op 4; Available at Time 62; Executed 62 to 70; Deadline: None>\n"
     ]
    }
   ],
   "source": [
    "\n",
    "simulate(fifo_schedule,[Event(2,0,4),Event(5,0,40)],wp1,lat,100)"
   ]
  },
  {
   "cell_type": "code",
   "execution_count": 8,
   "metadata": {},
   "outputs": [
    {
     "name": "stdout",
     "output_type": "stream",
     "text": [
      "Worker Pool History: \n",
      "Worker1: [\n",
      "  <Event 2; Running Op 0; Available at Time 4; Executed 4 to 14; Deadline: None>\n",
      "  <Event 2; Running Op 1; Available at Time 14; Executed 14 to 16; Deadline: None>\n",
      "  <Event 2; Running Op 2; Available at Time 14; Executed 16 to 20; Deadline: None>\n",
      "  <Event 2; Running Op 3; Available at Time 20; Executed 20 to 26; Deadline: None>\n",
      "  <Event 2; Running Op 4; Available at Time 26; Executed 26 to 34; Deadline: None>\n",
      "  <Event 5; Running Op 0; Available at Time 40; Executed 40 to 50; Deadline: None>\n",
      "  <Event 5; Running Op 1; Available at Time 50; Executed 50 to 52; Deadline: None>\n",
      "  <Event 5; Running Op 2; Available at Time 50; Executed 52 to 56; Deadline: None>\n",
      "  <Event 5; Running Op 3; Available at Time 56; Executed 56 to 62; Deadline: None>\n",
      "  <Event 5; Running Op 4; Available at Time 62; Executed 62 to 70; Deadline: None>\n",
      "]\n"
     ]
    }
   ],
   "source": [
    "print(wp1.history())"
   ]
  },
  {
   "cell_type": "code",
   "execution_count": 9,
   "metadata": {},
   "outputs": [
    {
     "data": {
      "text/plain": [
       "[]"
      ]
     },
     "execution_count": 9,
     "metadata": {},
     "output_type": "execute_result"
    }
   ],
   "source": [
    "wp1.reset()\n",
    "v.history"
   ]
  },
  {
   "cell_type": "code",
   "execution_count": 10,
   "metadata": {},
   "outputs": [
    {
     "data": {
      "text/plain": [
       "Worker Pool: \n",
       "Worker 1: []\n",
       "Worker 2: []"
      ]
     },
     "execution_count": 10,
     "metadata": {},
     "output_type": "execute_result"
    }
   ],
   "source": [
    "x = Worker(2)\n",
    "x.reset()\n",
    "wp2 = WorkerPool([])\n",
    "wp2.add_workers([v,x])\n",
    "wp2"
   ]
  },
  {
   "cell_type": "code",
   "execution_count": 11,
   "metadata": {},
   "outputs": [
    {
     "name": "stdout",
     "output_type": "stream",
     "text": [
      "Activate: <Event 2; Running Op 0; Available at Time 4; Executed None to None; Deadline: None>\n",
      "finished event: <Event 2; Running Op 0; Available at Time 4; Executed 4 to 14; Deadline: None>\n",
      "finished event: <Event 2; Running Op 1; Available at Time 14; Executed 14 to 16; Deadline: None>\n",
      "finished event: <Event 2; Running Op 2; Available at Time 14; Executed 14 to 18; Deadline: None>\n",
      "finished event: <Event 2; Running Op 3; Available at Time 18; Executed 18 to 24; Deadline: None>\n",
      "finished event: <Event 2; Running Op 4; Available at Time 24; Executed 24 to 32; Deadline: None>\n",
      "Activate: <Event 5; Running Op 0; Available at Time 40; Executed None to None; Deadline: None>\n",
      "finished event: <Event 5; Running Op 0; Available at Time 40; Executed 40 to 50; Deadline: None>\n",
      "finished event: <Event 5; Running Op 1; Available at Time 50; Executed 50 to 52; Deadline: None>\n",
      "finished event: <Event 5; Running Op 2; Available at Time 50; Executed 50 to 54; Deadline: None>\n",
      "finished event: <Event 5; Running Op 3; Available at Time 54; Executed 54 to 60; Deadline: None>\n",
      "finished event: <Event 5; Running Op 4; Available at Time 60; Executed 60 to 68; Deadline: None>\n"
     ]
    }
   ],
   "source": [
    "simulate(fifo_schedule,[Event(2,0,4),Event(5,0,40)],wp2,lat,100)"
   ]
  },
  {
   "cell_type": "code",
   "execution_count": 12,
   "metadata": {},
   "outputs": [
    {
     "name": "stdout",
     "output_type": "stream",
     "text": [
      "Worker Pool History: \n",
      "Worker1: [\n",
      "  <Event 2; Running Op 0; Available at Time 4; Executed 4 to 14; Deadline: None>\n",
      "  <Event 2; Running Op 1; Available at Time 14; Executed 14 to 16; Deadline: None>\n",
      "  <Event 2; Running Op 3; Available at Time 18; Executed 18 to 24; Deadline: None>\n",
      "  <Event 2; Running Op 4; Available at Time 24; Executed 24 to 32; Deadline: None>\n",
      "  <Event 5; Running Op 0; Available at Time 40; Executed 40 to 50; Deadline: None>\n",
      "  <Event 5; Running Op 1; Available at Time 50; Executed 50 to 52; Deadline: None>\n",
      "  <Event 5; Running Op 3; Available at Time 54; Executed 54 to 60; Deadline: None>\n",
      "  <Event 5; Running Op 4; Available at Time 60; Executed 60 to 68; Deadline: None>\n",
      "]\n",
      "Worker2: [\n",
      "  <Event 2; Running Op 2; Available at Time 14; Executed 14 to 18; Deadline: None>\n",
      "  <Event 5; Running Op 2; Available at Time 50; Executed 50 to 54; Deadline: None>\n",
      "]\n"
     ]
    }
   ],
   "source": [
    "print(wp2.history())"
   ]
  },
  {
   "cell_type": "code",
   "execution_count": 13,
   "metadata": {},
   "outputs": [
    {
     "name": "stdout",
     "output_type": "stream",
     "text": [
      "Activate: <Event 2; Running Op 0; Available at Time 4; Executed None to None; Deadline: None>\n",
      "Activate: <Event 5; Running Op 0; Available at Time 4; Executed None to None; Deadline: None>\n",
      "finished event: <Event 2; Running Op 0; Available at Time 4; Executed 4 to 14; Deadline: None>\n",
      "finished event: <Event 5; Running Op 0; Available at Time 4; Executed 4 to 14; Deadline: None>\n",
      "finished event: <Event 2; Running Op 1; Available at Time 14; Executed 14 to 16; Deadline: None>\n",
      "finished event: <Event 5; Running Op 1; Available at Time 14; Executed 16 to 18; Deadline: None>\n",
      "finished event: <Event 2; Running Op 2; Available at Time 14; Executed 14 to 18; Deadline: None>\n",
      "finished event: <Event 5; Running Op 2; Available at Time 14; Executed 18 to 22; Deadline: None>\n",
      "finished event: <Event 2; Running Op 3; Available at Time 18; Executed 18 to 24; Deadline: None>\n",
      "finished event: <Event 2; Running Op 3; Available at Time 22; Executed 22 to 28; Deadline: None>\n",
      "finished event: <Event 2; Running Op 4; Available at Time 24; Executed 24 to 32; Deadline: None>\n",
      "finished event: <Event 2; Running Op 4; Available at Time 28; Executed 28 to 36; Deadline: None>\n",
      "Worker Pool History: \n",
      "Worker1: [\n",
      "  <Event 2; Running Op 0; Available at Time 4; Executed 4 to 14; Deadline: None>\n",
      "  <Event 2; Running Op 1; Available at Time 14; Executed 14 to 16; Deadline: None>\n",
      "  <Event 5; Running Op 1; Available at Time 14; Executed 16 to 18; Deadline: None>\n",
      "  <Event 5; Running Op 2; Available at Time 14; Executed 18 to 22; Deadline: None>\n",
      "  <Event 2; Running Op 3; Available at Time 22; Executed 22 to 28; Deadline: None>\n",
      "  <Event 2; Running Op 4; Available at Time 28; Executed 28 to 36; Deadline: None>\n",
      "]\n",
      "Worker2: [\n",
      "  <Event 5; Running Op 0; Available at Time 4; Executed 4 to 14; Deadline: None>\n",
      "  <Event 2; Running Op 2; Available at Time 14; Executed 14 to 18; Deadline: None>\n",
      "  <Event 2; Running Op 3; Available at Time 18; Executed 18 to 24; Deadline: None>\n",
      "  <Event 2; Running Op 4; Available at Time 24; Executed 24 to 32; Deadline: None>\n",
      "]\n"
     ]
    }
   ],
   "source": [
    "wp2.reset()\n",
    "simulate(fifo_schedule,[Event(2,0,4),Event(5,0,4)],wp2,lat,100)\n",
    "print(wp2.history())"
   ]
  },
  {
   "cell_type": "markdown",
   "metadata": {},
   "source": [
    "## DEADLINES"
   ]
  },
  {
   "cell_type": "code",
   "execution_count": 14,
   "metadata": {},
   "outputs": [],
   "source": [
    "d_op4 = Operator(4,[],8, relative_deadline = 10)\n",
    "d_op3 = Operator(3,[4],6,is_join=True, relative_deadline = 6)\n",
    "d_op2 = Operator(2,[3],4, relative_deadline=4)\n",
    "d_op1 = Operator(1,[3],2, relative_deadline=5)\n",
    "d_op0 = Operator(0,[1,2],10, relative_deadline=10)\n",
    "\n",
    "d_lat = Lattice([d_op0,d_op1,d_op2,d_op3,d_op4])"
   ]
  },
  {
   "cell_type": "code",
   "execution_count": 15,
   "metadata": {
    "scrolled": false
   },
   "outputs": [
    {
     "name": "stdout",
     "output_type": "stream",
     "text": [
      "Activate: <Event 1; Running Op 0; Available at Time 4; Executed None to None; Deadline: 14>\n",
      "finished event: <Event 1; Running Op 0; Available at Time 4; Executed 4 to 14; Deadline: 14>\n",
      "finished event: <Event 1; Running Op 1; Available at Time 14; Executed 14 to 16; Deadline: 19>\n",
      "WARNING: DEADLINE MISSED [D:18; F:20]\n",
      "finished event: <Event 1; Running Op 2; Available at Time 14; Executed 16 to 20; Deadline: 18>\n",
      "finished event: <Event 1; Running Op 3; Available at Time 20; Executed 20 to 26; Deadline: 26>\n",
      "finished event: <Event 1; Running Op 4; Available at Time 26; Executed 26 to 34; Deadline: 36>\n",
      "Worker Pool History: \n",
      "Worker1: [\n",
      "  <Event 1; Running Op 0; Available at Time 4; Executed 4 to 14; Deadline: 14>\n",
      "  <Event 1; Running Op 1; Available at Time 14; Executed 14 to 16; Deadline: 19>\n",
      "  <Event 1; Running Op 2; Available at Time 14; Executed 16 to 20; Deadline: 18>\n",
      "  <Event 1; Running Op 3; Available at Time 20; Executed 20 to 26; Deadline: 26>\n",
      "  <Event 1; Running Op 4; Available at Time 26; Executed 26 to 34; Deadline: 36>\n",
      "]\n"
     ]
    }
   ],
   "source": [
    "wp1.reset()\n",
    "simulate(fifo_schedule,[Event(1,0,4, deadline = 14)], wp1, d_lat , 100)\n",
    "print(wp1.history())"
   ]
  },
  {
   "cell_type": "code",
   "execution_count": 16,
   "metadata": {
    "scrolled": false
   },
   "outputs": [
    {
     "name": "stdout",
     "output_type": "stream",
     "text": [
      "Activate: <Event 1; Running Op 0; Available at Time 4; Executed None to None; Deadline: 14>\n",
      "finished event: <Event 1; Running Op 0; Available at Time 4; Executed 4 to 14; Deadline: 14>\n",
      "finished event: <Event 1; Running Op 2; Available at Time 14; Executed 14 to 18; Deadline: 18>\n",
      "WARNING: DEADLINE MISSED [D:19; F:20]\n",
      "finished event: <Event 1; Running Op 1; Available at Time 14; Executed 18 to 20; Deadline: 19>\n",
      "finished event: <Event 1; Running Op 3; Available at Time 20; Executed 20 to 26; Deadline: 26>\n",
      "finished event: <Event 1; Running Op 4; Available at Time 26; Executed 26 to 34; Deadline: 36>\n",
      "Worker Pool History: \n",
      "Worker1: [\n",
      "  <Event 1; Running Op 0; Available at Time 4; Executed 4 to 14; Deadline: 14>\n",
      "  <Event 1; Running Op 2; Available at Time 14; Executed 14 to 18; Deadline: 18>\n",
      "  <Event 1; Running Op 1; Available at Time 14; Executed 18 to 20; Deadline: 19>\n",
      "  <Event 1; Running Op 3; Available at Time 20; Executed 20 to 26; Deadline: 26>\n",
      "  <Event 1; Running Op 4; Available at Time 26; Executed 26 to 34; Deadline: 36>\n",
      "]\n"
     ]
    }
   ],
   "source": [
    "wp.reset()\n",
    "simulate(edf_schedule,[Event(1,0,4, deadline = 14)], wp, d_lat , 100)\n",
    "print(wp.history())"
   ]
  },
  {
   "cell_type": "code",
   "execution_count": 17,
   "metadata": {
    "scrolled": false
   },
   "outputs": [
    {
     "name": "stdout",
     "output_type": "stream",
     "text": [
      "Activate: <Event 1; Running Op 0; Available at Time 4; Executed None to None; Deadline: 14>\n",
      "finished event: <Event 1; Running Op 0; Available at Time 4; Executed 4 to 14; Deadline: 14>\n",
      "finished event: <Event 1; Running Op 1; Available at Time 14; Executed 14 to 16; Deadline: 19>\n",
      "finished event: <Event 1; Running Op 2; Available at Time 14; Executed 14 to 18; Deadline: 18>\n",
      "finished event: <Event 1; Running Op 3; Available at Time 18; Executed 18 to 24; Deadline: 24>\n",
      "finished event: <Event 1; Running Op 4; Available at Time 24; Executed 24 to 32; Deadline: 34>\n",
      "Worker Pool History: \n",
      "Worker1: [\n",
      "  <Event 1; Running Op 0; Available at Time 4; Executed 4 to 14; Deadline: 14>\n",
      "  <Event 1; Running Op 2; Available at Time 14; Executed 14 to 18; Deadline: 18>\n",
      "  <Event 1; Running Op 3; Available at Time 18; Executed 18 to 24; Deadline: 24>\n",
      "  <Event 1; Running Op 4; Available at Time 24; Executed 24 to 32; Deadline: 34>\n",
      "]\n",
      "Worker2: [\n",
      "  <Event 1; Running Op 1; Available at Time 14; Executed 14 to 16; Deadline: 19>\n",
      "]\n"
     ]
    }
   ],
   "source": [
    "wp2.reset()\n",
    "simulate(edf_schedule,[Event(1,0,4,14)], wp2, d_lat , 300)\n",
    "print(wp2.history())"
   ]
  }
 ],
 "metadata": {
  "kernelspec": {
   "display_name": "Python 3",
   "language": "python",
   "name": "python3"
  },
  "language_info": {
   "codemirror_mode": {
    "name": "ipython",
    "version": 3
   },
   "file_extension": ".py",
   "mimetype": "text/x-python",
   "name": "python",
   "nbconvert_exporter": "python",
   "pygments_lexer": "ipython3",
   "version": "3.8.3"
  }
 },
 "nbformat": 4,
 "nbformat_minor": 4
}
