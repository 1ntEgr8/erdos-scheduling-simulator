{
 "cells": [
  {
   "cell_type": "code",
   "execution_count": 1,
   "metadata": {},
   "outputs": [],
   "source": [
    "class Operator:\n",
    "    def __init__(self,unique_id,children,time_required,is_join=False, relative_deadline=False):\n",
    "#         print (\"initialized operator {}\".format(unique_id))\n",
    "        self.children = children\n",
    "        self.log = []\n",
    "        self.unique_id = unique_id\n",
    "        self.time_required = time_required\n",
    "        self.is_join = is_join\n",
    "        self.paused_job = None\n",
    "        self.relative_deadline = relative_deadline\n",
    "        \n",
    "class Lattice:\n",
    "    def __init__(self, operators):\n",
    "        self.operators = operators\n",
    "        self.children_dir = {}\n",
    "        for op in operators:\n",
    "            self.children_dir[op.unique_id] = op.children \n",
    "        # should prolly sort the operators \n",
    "    def __repr__(self):\n",
    "        return \"Lattice {}\".format(self.children_dir.__repr__())            \n",
    "    def get_children(self,operator):\n",
    "        return self.children_dir[operator]\n",
    "    def add_next(self,event,new_event_queue,curr_time):\n",
    "        '''\n",
    "            Adds new events to queue if necessary when an Event completes\n",
    "            The times are a bit weird cause this effectively gets called at the end of the curr_time slice/beginning of the next slice\n",
    "        '''\n",
    "        children = self.get_children(event.operator)\n",
    "        for c in children:\n",
    "            c = self.get_op(c)\n",
    "            event_id = event.unique_id\n",
    "            if c.is_join:\n",
    "                if not c.paused_job:\n",
    "                    c.paused_job = event\n",
    "                    continue\n",
    "                else:\n",
    "                    event_id = min(event.unique_id,c.paused_job.unique_id)\n",
    "                    c.paused_job = None\n",
    "            if c.relative_deadline:\n",
    "                d = c.relative_deadline + curr_time + 1\n",
    "            else: \n",
    "                d = None\n",
    "            new_event_queue.append(Event(event_id,c.unique_id, curr_time + 1,deadline=d))\n",
    "    def get_op(self,op):\n",
    "        '''\n",
    "            Assumes that the operators are in sorted and consecutive order\n",
    "        '''\n",
    "        out = self.operators[op]\n",
    "        if out.unique_id != op:\n",
    "            print (\"ERROR: lattice not properly ordered [{} returned instead of {}]\".format(out.unique_id,op))\n",
    "        return out\n",
    "\n"
   ]
  },
  {
   "cell_type": "code",
   "execution_count": 2,
   "metadata": {},
   "outputs": [
    {
     "name": "stdout",
     "output_type": "stream",
     "text": [
      "Lattice {0: [1, 2], 1: [3], 2: [3], 3: [4], 4: []}\n",
      "[4]\n"
     ]
    }
   ],
   "source": [
    "op4 = Operator(4,[],8)\n",
    "op3 = Operator(3,[4],6,is_join=True)\n",
    "op2 = Operator(2,[3],4)\n",
    "op1 = Operator(1,[3],2)\n",
    "op0 = Operator(0,[1,2],10)\n",
    "\n",
    "lat = Lattice([op0,op1,op2,op3,op4])\n",
    "\n",
    "print(lat)\n",
    "print (lat.get_children(3))\n",
    "\n",
    "# Lattice {0: [1, 2], 1: [3], 2: [3], 3: [4], 4: []}\n",
    "# [4]"
   ]
  },
  {
   "cell_type": "markdown",
   "metadata": {},
   "source": [
    "``` \n",
    "v1 -> v3 -> v4\n",
    "^      ^   \n",
    "|      |\n",
    "v0 ->  v2\n",
    "```"
   ]
  },
  {
   "cell_type": "code",
   "execution_count": 3,
   "metadata": {},
   "outputs": [],
   "source": [
    "            \n",
    "class Event:\n",
    "    def __init__(self,  unique_id, operator , arrival_time, deadline=None):\n",
    "        self.unique_id = unique_id\n",
    "        self.operator = operator\n",
    "        self.arrival_time = arrival_time\n",
    "        self.time_remaining = -1\n",
    "        self.start_time = None\n",
    "        self.finish_time = None\n",
    "        self.deadline = deadline\n",
    "    def __repr__(self):\n",
    "        return \"<Event {}; Running Op {}; Available at Time {}; Executed {} to {}; Deadline: {}>\".format(self.unique_id,self.operator, self.arrival_time, self.start_time, self.finish_time, self.deadline)\n",
    "    def start(self,lattice,time):\n",
    "        self.time_remaining = lattice.get_op(self.operator).time_required\n",
    "        self.start_time = time \n",
    "    def step(self):\n",
    "        if self.time_remaining < 1:\n",
    "            print(\"ERROR: already finished event; {} left\".format(self.time_remaining))\n",
    "        self.time_remaining -= 1\n",
    "        return self.time_remaining\n",
    "    def finish(self,new_event_queue,lattice,time):\n",
    "        if self.time_remaining != 0:\n",
    "            print(\"ERROR: try to finish but not done; {} left\".format(self.time_remaining))\n",
    "        lattice.add_next(self,new_event_queue,time)\n",
    "        self.finish_time = time + 1 # cause you technically am using up the current time slice\n",
    "        if self.deadline and self.deadline < self.finish_time:\n",
    "            print(\"WARNING: DEADLINE MISSED [D:{}; F:{}]\".format(self.deadline,self.finish_time))\n",
    "        \n",
    "        \n",
    "        \n",
    "        \n"
   ]
  },
  {
   "cell_type": "code",
   "execution_count": 4,
   "metadata": {},
   "outputs": [
    {
     "data": {
      "text/plain": [
       "(<Event 1; Running Op 0; Available at Time 0; Executed 0 to 3; Deadline: None>,\n",
       " [<Event 1; Running Op 1; Available at Time 3; Executed None to None; Deadline: None>,\n",
       "  <Event 1; Running Op 2; Available at Time 3; Executed None to None; Deadline: None>])"
      ]
     },
     "execution_count": 4,
     "metadata": {},
     "output_type": "execute_result"
    }
   ],
   "source": [
    "event_queue = []\n",
    "e = Event(1,0,0)\n",
    "e.start(lat,0)\n",
    "for i in range(10):\n",
    "    e.step()\n",
    "e.finish(event_queue,lat,2)\n",
    "e,event_queue\n",
    "# (<Event 1; Running Op 0; Available at Time 0; Executed 0 to 2>,\n",
    "#  [<Event 1; Running Op 1; Available at Time 2; Executed None to None>,\n",
    "#   <Event 1; Running Op 2; Available at Time 2; Executed None to None>])\n"
   ]
  },
  {
   "cell_type": "code",
   "execution_count": 5,
   "metadata": {},
   "outputs": [],
   "source": [
    "\n",
    "\n",
    "\n",
    "class Worker: \n",
    "    def __init__(self, unique_id, gpus=1):\n",
    "        self.unique_id = unique_id\n",
    "        self.history = []\n",
    "        self.current_event = None\n",
    "    def __repr__(self):\n",
    "        return \"Worker {}: {}\".format(self.unique_id, self.history)\n",
    "    def do_job(self, task, lattice,time):\n",
    "        if self.current_event != None:\n",
    "            print(\"ERROR: Worker is still busy\")\n",
    "        self.history.append(task)\n",
    "        self.current_event = task\n",
    "        task.start(lattice,time)\n",
    "    def reset(self):\n",
    "        self.__init__(self.unique_id)\n",
    "    def get_history(self):\n",
    "        out = \"\"\n",
    "        for e in self.history:\n",
    "            out += \"\\n  {}\".format(e)\n",
    "        return \"[{}\\n]\".format(out)\n",
    "            \n",
    "        \n",
    "class WorkerPool:\n",
    "    def __init__(self, workers):\n",
    "        self.workers = workers\n",
    "        self.count = len(workers)\n",
    "    def __repr__(self):\n",
    "        output = \"\"\n",
    "        for w in self.workers:\n",
    "            output += \"\\n{}\".format(w)\n",
    "        return \"Worker Pool: \" + output\n",
    "    def add_worker(self,w):\n",
    "        for v in self.workers:\n",
    "            if v.unique_id == w.unique_id:\n",
    "                print (\"ERROR: worker not unique [{}]\".format(w.unique_id))\n",
    "                return \n",
    "        self.workers.append(w)\n",
    "    def add_workers(self,ws):\n",
    "        for w in ws:\n",
    "            self.add_worker(w)\n",
    "    def reset(self):\n",
    "        for w in self.workers:\n",
    "            w.reset()\n",
    "    def history(self):\n",
    "        output = \"\"\n",
    "        for w in self.workers:\n",
    "            output += \"\\nWorker{}: {}\".format(w.unique_id, w.get_history())\n",
    "        return \"Worker Pool History: \" + output\n",
    "        \n",
    "            \n",
    "    "
   ]
  },
  {
   "cell_type": "code",
   "execution_count": 6,
   "metadata": {},
   "outputs": [
    {
     "data": {
      "text/plain": [
       "Worker 1: [<Event 7; Running Op 4; Available at Time 2; Executed 2 to None; Deadline: None>]"
      ]
     },
     "execution_count": 6,
     "metadata": {},
     "output_type": "execute_result"
    }
   ],
   "source": [
    "w = Worker(1)\n",
    "w.do_job(Event(7,4,2),lat,2)\n",
    "w # Worker 1: [<Event 7; Running Op 4; Available at Time 2>]"
   ]
  },
  {
   "cell_type": "code",
   "execution_count": 7,
   "metadata": {},
   "outputs": [
    {
     "name": "stdout",
     "output_type": "stream",
     "text": [
      "ERROR: worker not unique [1]\n"
     ]
    },
    {
     "data": {
      "text/plain": [
       "Worker Pool: \n",
       "Worker 1: [<Event 7; Running Op 4; Available at Time 2; Executed 2 to None; Deadline: None>]"
      ]
     },
     "execution_count": 7,
     "metadata": {},
     "output_type": "execute_result"
    }
   ],
   "source": [
    "wp = WorkerPool([])\n",
    "v = Worker(1)\n",
    "wp.add_workers([w,v])\n",
    "# ERROR: worker not unique [1]\n",
    "\n",
    "wp\n",
    "# Worker Pool: \n",
    "# Worker 1: [<Event 7; Running Op 4; Available at Time 2>]"
   ]
  },
  {
   "cell_type": "code",
   "execution_count": 8,
   "metadata": {},
   "outputs": [],
   "source": [
    "def simulate(schedule,task_set,worker_pool,lattice,timeout,v=0):\n",
    "    if not task_set:\n",
    "        return\n",
    "    task_set.sort(key=(lambda e: e.arrival_time))\n",
    "    event_queue = []\n",
    "    for time in range(timeout):\n",
    "        if v:\n",
    "            print (\"step: {}\".format(time))\n",
    "        while len(task_set) != 0 and  task_set[0].arrival_time == time:\n",
    "            task = task_set.pop(0)\n",
    "            print (\"Activate: {}\".format(task))\n",
    "            event_queue.append(task)\n",
    "        schedule(time,event_queue,lattice,worker_pool,timeout)\n",
    "def fifo_schedule(time,event_queue,lattice,worker_pool,timeout):\n",
    "    new_event_queue = []\n",
    "#     print (event_queue)\n",
    "    for worker in worker_pool.workers:\n",
    "        if worker.current_event == None and event_queue:\n",
    "            worker.do_job(event_queue.pop(0),lattice,time)\n",
    "        if worker.current_event: \n",
    "            worker.current_event.step()\n",
    "            if worker.current_event.time_remaining == 0:\n",
    "                worker.current_event.finish(new_event_queue,lattice,time)\n",
    "                print(\"finished event: {}\".format(worker.current_event))\n",
    "                worker.current_event = None\n",
    "    event_queue.extend(new_event_queue)\n",
    "\n",
    "def edf_schedule(time,event_queue,lattice,worker_pool,timeout):\n",
    "    new_event_queue = []\n",
    "#     print (event_queue)\n",
    "    for worker in worker_pool.workers:\n",
    "        if worker.current_event == None and event_queue:\n",
    "            worker.do_job(event_queue.pop(0),lattice,time)\n",
    "        if worker.current_event: \n",
    "            worker.current_event.step()\n",
    "            if worker.current_event.time_remaining == 0:\n",
    "                worker.current_event.finish(new_event_queue,lattice,time)\n",
    "                print(\"finished event: {}\".format(worker.current_event))\n",
    "                worker.current_event = None\n",
    "    event_queue.extend(new_event_queue)\n",
    "    event_queue.sort(key=lambda x: x.deadline if x.deadline else timeout)\n",
    "def llf_schedule(time,event_queue,lattice,worker_pool,timeout):\n",
    "    new_event_queue = []\n",
    "#     print (event_queue)\n",
    "    for worker in worker_pool.workers:\n",
    "        if worker.current_event == None and event_queue:\n",
    "            worker.do_job(event_queue.pop(0),lattice,time)\n",
    "        if worker.current_event: \n",
    "            worker.current_event.step()\n",
    "            if worker.current_event.time_remaining == 0:\n",
    "                worker.current_event.finish(new_event_queue,lattice,time)\n",
    "                print(\"finished event: {}\".format(worker.current_event))\n",
    "                worker.current_event = None\n",
    "    event_queue.extend(new_event_queue)\n",
    "    event_queue.sort(key=lambda x: x.deadline - x.time_remaining if x.deadline else timeout)\n"
   ]
  },
  {
   "cell_type": "code",
   "execution_count": 9,
   "metadata": {},
   "outputs": [
    {
     "data": {
      "text/plain": [
       "Worker Pool: \n",
       "Worker 1: []"
      ]
     },
     "execution_count": 9,
     "metadata": {},
     "output_type": "execute_result"
    }
   ],
   "source": [
    "wp1 = WorkerPool([])\n",
    "wp1.add_worker(v)\n",
    "wp1"
   ]
  },
  {
   "cell_type": "code",
   "execution_count": 10,
   "metadata": {
    "scrolled": true
   },
   "outputs": [
    {
     "name": "stdout",
     "output_type": "stream",
     "text": [
      "Activate: <Event 2; Running Op 0; Available at Time 4; Executed None to None; Deadline: None>\n",
      "finished event: <Event 2; Running Op 0; Available at Time 4; Executed 4 to 14; Deadline: None>\n",
      "finished event: <Event 2; Running Op 1; Available at Time 14; Executed 14 to 16; Deadline: None>\n",
      "finished event: <Event 2; Running Op 2; Available at Time 14; Executed 16 to 20; Deadline: None>\n",
      "finished event: <Event 2; Running Op 3; Available at Time 20; Executed 20 to 26; Deadline: None>\n",
      "finished event: <Event 2; Running Op 4; Available at Time 26; Executed 26 to 34; Deadline: None>\n",
      "Activate: <Event 5; Running Op 0; Available at Time 40; Executed None to None; Deadline: None>\n",
      "finished event: <Event 5; Running Op 0; Available at Time 40; Executed 40 to 50; Deadline: None>\n",
      "finished event: <Event 5; Running Op 1; Available at Time 50; Executed 50 to 52; Deadline: None>\n",
      "finished event: <Event 5; Running Op 2; Available at Time 50; Executed 52 to 56; Deadline: None>\n",
      "finished event: <Event 5; Running Op 3; Available at Time 56; Executed 56 to 62; Deadline: None>\n",
      "finished event: <Event 5; Running Op 4; Available at Time 62; Executed 62 to 70; Deadline: None>\n"
     ]
    }
   ],
   "source": [
    "\n",
    "simulate(fifo_schedule,[Event(2,0,4),Event(5,0,40)],wp1,lat,100)"
   ]
  },
  {
   "cell_type": "code",
   "execution_count": 11,
   "metadata": {},
   "outputs": [
    {
     "name": "stdout",
     "output_type": "stream",
     "text": [
      "Worker Pool History: \n",
      "Worker1: [\n",
      "  <Event 2; Running Op 0; Available at Time 4; Executed 4 to 14; Deadline: None>\n",
      "  <Event 2; Running Op 1; Available at Time 14; Executed 14 to 16; Deadline: None>\n",
      "  <Event 2; Running Op 2; Available at Time 14; Executed 16 to 20; Deadline: None>\n",
      "  <Event 2; Running Op 3; Available at Time 20; Executed 20 to 26; Deadline: None>\n",
      "  <Event 2; Running Op 4; Available at Time 26; Executed 26 to 34; Deadline: None>\n",
      "  <Event 5; Running Op 0; Available at Time 40; Executed 40 to 50; Deadline: None>\n",
      "  <Event 5; Running Op 1; Available at Time 50; Executed 50 to 52; Deadline: None>\n",
      "  <Event 5; Running Op 2; Available at Time 50; Executed 52 to 56; Deadline: None>\n",
      "  <Event 5; Running Op 3; Available at Time 56; Executed 56 to 62; Deadline: None>\n",
      "  <Event 5; Running Op 4; Available at Time 62; Executed 62 to 70; Deadline: None>\n",
      "]\n"
     ]
    }
   ],
   "source": [
    "print(wp1.history())"
   ]
  },
  {
   "cell_type": "code",
   "execution_count": 12,
   "metadata": {},
   "outputs": [
    {
     "data": {
      "text/plain": [
       "[]"
      ]
     },
     "execution_count": 12,
     "metadata": {},
     "output_type": "execute_result"
    }
   ],
   "source": [
    "wp1.reset()\n",
    "v.history"
   ]
  },
  {
   "cell_type": "code",
   "execution_count": 13,
   "metadata": {},
   "outputs": [
    {
     "data": {
      "text/plain": [
       "Worker Pool: \n",
       "Worker 1: []\n",
       "Worker 2: []"
      ]
     },
     "execution_count": 13,
     "metadata": {},
     "output_type": "execute_result"
    }
   ],
   "source": [
    "x = Worker(2)\n",
    "x.reset()\n",
    "wp2 = WorkerPool([])\n",
    "wp2.add_workers([v,x])\n",
    "wp2"
   ]
  },
  {
   "cell_type": "code",
   "execution_count": 14,
   "metadata": {},
   "outputs": [
    {
     "name": "stdout",
     "output_type": "stream",
     "text": [
      "Activate: <Event 2; Running Op 0; Available at Time 4; Executed None to None; Deadline: None>\n",
      "finished event: <Event 2; Running Op 0; Available at Time 4; Executed 4 to 14; Deadline: None>\n",
      "finished event: <Event 2; Running Op 1; Available at Time 14; Executed 14 to 16; Deadline: None>\n",
      "finished event: <Event 2; Running Op 2; Available at Time 14; Executed 14 to 18; Deadline: None>\n",
      "finished event: <Event 2; Running Op 3; Available at Time 18; Executed 18 to 24; Deadline: None>\n",
      "finished event: <Event 2; Running Op 4; Available at Time 24; Executed 24 to 32; Deadline: None>\n",
      "Activate: <Event 5; Running Op 0; Available at Time 40; Executed None to None; Deadline: None>\n",
      "finished event: <Event 5; Running Op 0; Available at Time 40; Executed 40 to 50; Deadline: None>\n",
      "finished event: <Event 5; Running Op 1; Available at Time 50; Executed 50 to 52; Deadline: None>\n",
      "finished event: <Event 5; Running Op 2; Available at Time 50; Executed 50 to 54; Deadline: None>\n",
      "finished event: <Event 5; Running Op 3; Available at Time 54; Executed 54 to 60; Deadline: None>\n",
      "finished event: <Event 5; Running Op 4; Available at Time 60; Executed 60 to 68; Deadline: None>\n"
     ]
    }
   ],
   "source": [
    "simulate(fifo_schedule,[Event(2,0,4),Event(5,0,40)],wp2,lat,100)"
   ]
  },
  {
   "cell_type": "code",
   "execution_count": 15,
   "metadata": {},
   "outputs": [
    {
     "name": "stdout",
     "output_type": "stream",
     "text": [
      "Worker Pool History: \n",
      "Worker1: [\n",
      "  <Event 2; Running Op 0; Available at Time 4; Executed 4 to 14; Deadline: None>\n",
      "  <Event 2; Running Op 1; Available at Time 14; Executed 14 to 16; Deadline: None>\n",
      "  <Event 2; Running Op 3; Available at Time 18; Executed 18 to 24; Deadline: None>\n",
      "  <Event 2; Running Op 4; Available at Time 24; Executed 24 to 32; Deadline: None>\n",
      "  <Event 5; Running Op 0; Available at Time 40; Executed 40 to 50; Deadline: None>\n",
      "  <Event 5; Running Op 1; Available at Time 50; Executed 50 to 52; Deadline: None>\n",
      "  <Event 5; Running Op 3; Available at Time 54; Executed 54 to 60; Deadline: None>\n",
      "  <Event 5; Running Op 4; Available at Time 60; Executed 60 to 68; Deadline: None>\n",
      "]\n",
      "Worker2: [\n",
      "  <Event 2; Running Op 2; Available at Time 14; Executed 14 to 18; Deadline: None>\n",
      "  <Event 5; Running Op 2; Available at Time 50; Executed 50 to 54; Deadline: None>\n",
      "]\n"
     ]
    }
   ],
   "source": [
    "print(wp2.history())"
   ]
  },
  {
   "cell_type": "code",
   "execution_count": 16,
   "metadata": {},
   "outputs": [
    {
     "name": "stdout",
     "output_type": "stream",
     "text": [
      "Activate: <Event 2; Running Op 0; Available at Time 4; Executed None to None; Deadline: None>\n",
      "Activate: <Event 5; Running Op 0; Available at Time 4; Executed None to None; Deadline: None>\n",
      "finished event: <Event 2; Running Op 0; Available at Time 4; Executed 4 to 14; Deadline: None>\n",
      "finished event: <Event 5; Running Op 0; Available at Time 4; Executed 4 to 14; Deadline: None>\n",
      "finished event: <Event 2; Running Op 1; Available at Time 14; Executed 14 to 16; Deadline: None>\n",
      "finished event: <Event 5; Running Op 1; Available at Time 14; Executed 16 to 18; Deadline: None>\n",
      "finished event: <Event 2; Running Op 2; Available at Time 14; Executed 14 to 18; Deadline: None>\n",
      "finished event: <Event 5; Running Op 2; Available at Time 14; Executed 18 to 22; Deadline: None>\n",
      "finished event: <Event 2; Running Op 3; Available at Time 18; Executed 18 to 24; Deadline: None>\n",
      "finished event: <Event 2; Running Op 3; Available at Time 22; Executed 22 to 28; Deadline: None>\n",
      "finished event: <Event 2; Running Op 4; Available at Time 24; Executed 24 to 32; Deadline: None>\n",
      "finished event: <Event 2; Running Op 4; Available at Time 28; Executed 28 to 36; Deadline: None>\n",
      "Worker Pool History: \n",
      "Worker1: [\n",
      "  <Event 2; Running Op 0; Available at Time 4; Executed 4 to 14; Deadline: None>\n",
      "  <Event 2; Running Op 1; Available at Time 14; Executed 14 to 16; Deadline: None>\n",
      "  <Event 5; Running Op 1; Available at Time 14; Executed 16 to 18; Deadline: None>\n",
      "  <Event 5; Running Op 2; Available at Time 14; Executed 18 to 22; Deadline: None>\n",
      "  <Event 2; Running Op 3; Available at Time 22; Executed 22 to 28; Deadline: None>\n",
      "  <Event 2; Running Op 4; Available at Time 28; Executed 28 to 36; Deadline: None>\n",
      "]\n",
      "Worker2: [\n",
      "  <Event 5; Running Op 0; Available at Time 4; Executed 4 to 14; Deadline: None>\n",
      "  <Event 2; Running Op 2; Available at Time 14; Executed 14 to 18; Deadline: None>\n",
      "  <Event 2; Running Op 3; Available at Time 18; Executed 18 to 24; Deadline: None>\n",
      "  <Event 2; Running Op 4; Available at Time 24; Executed 24 to 32; Deadline: None>\n",
      "]\n"
     ]
    }
   ],
   "source": [
    "wp2.reset()\n",
    "simulate(fifo_schedule,[Event(2,0,4),Event(5,0,4)],wp2,lat,100)\n",
    "print(wp2.history())"
   ]
  },
  {
   "cell_type": "markdown",
   "metadata": {},
   "source": [
    "## DEADLINES"
   ]
  },
  {
   "cell_type": "code",
   "execution_count": 25,
   "metadata": {},
   "outputs": [],
   "source": [
    "d_op4 = Operator(4,[],8, relative_deadline = 10)\n",
    "d_op3 = Operator(3,[4],6,is_join=True, relative_deadline = 6)\n",
    "d_op2 = Operator(2,[3],4, relative_deadline=4)\n",
    "d_op1 = Operator(1,[3],2, relative_deadline=5)\n",
    "d_op0 = Operator(0,[1,2],10, relative_deadline=10)\n",
    "\n",
    "d_lat = Lattice([d_op0,d_op1,d_op2,d_op3,d_op4])"
   ]
  },
  {
   "cell_type": "code",
   "execution_count": 26,
   "metadata": {
    "scrolled": false
   },
   "outputs": [
    {
     "name": "stdout",
     "output_type": "stream",
     "text": [
      "Activate: <Event 1; Running Op 0; Available at Time 4; Executed None to None; Deadline: 14>\n",
      "finished event: <Event 1; Running Op 0; Available at Time 4; Executed 4 to 14; Deadline: 14>\n",
      "finished event: <Event 1; Running Op 1; Available at Time 14; Executed 14 to 16; Deadline: 19>\n",
      "WARNING: DEADLINE MISSED [D:18; F:20]\n",
      "finished event: <Event 1; Running Op 2; Available at Time 14; Executed 16 to 20; Deadline: 18>\n",
      "finished event: <Event 1; Running Op 3; Available at Time 20; Executed 20 to 26; Deadline: 26>\n",
      "finished event: <Event 1; Running Op 4; Available at Time 26; Executed 26 to 34; Deadline: 36>\n",
      "Worker Pool History: \n",
      "Worker1: [\n",
      "  <Event 1; Running Op 0; Available at Time 4; Executed 4 to 14; Deadline: 14>\n",
      "  <Event 1; Running Op 1; Available at Time 14; Executed 14 to 16; Deadline: 19>\n",
      "  <Event 1; Running Op 2; Available at Time 14; Executed 16 to 20; Deadline: 18>\n",
      "  <Event 1; Running Op 3; Available at Time 20; Executed 20 to 26; Deadline: 26>\n",
      "  <Event 1; Running Op 4; Available at Time 26; Executed 26 to 34; Deadline: 36>\n",
      "]\n"
     ]
    }
   ],
   "source": [
    "wp1.reset()\n",
    "simulate(fifo_schedule,[Event(1,0,4, deadline = 14)], wp1, d_lat , 100)\n",
    "print(wp1.history())"
   ]
  },
  {
   "cell_type": "code",
   "execution_count": 28,
   "metadata": {
    "scrolled": false
   },
   "outputs": [
    {
     "name": "stdout",
     "output_type": "stream",
     "text": [
      "Activate: <Event 1; Running Op 0; Available at Time 4; Executed None to None; Deadline: 14>\n",
      "finished event: <Event 1; Running Op 0; Available at Time 4; Executed 4 to 14; Deadline: 14>\n",
      "finished event: <Event 1; Running Op 2; Available at Time 14; Executed 14 to 18; Deadline: 18>\n",
      "WARNING: DEADLINE MISSED [D:19; F:20]\n",
      "finished event: <Event 1; Running Op 1; Available at Time 14; Executed 18 to 20; Deadline: 19>\n",
      "finished event: <Event 1; Running Op 3; Available at Time 20; Executed 20 to 26; Deadline: 26>\n",
      "finished event: <Event 1; Running Op 4; Available at Time 26; Executed 26 to 34; Deadline: 36>\n",
      "Worker Pool History: \n",
      "Worker1: [\n",
      "  <Event 1; Running Op 0; Available at Time 4; Executed 4 to 14; Deadline: 14>\n",
      "  <Event 1; Running Op 2; Available at Time 14; Executed 14 to 18; Deadline: 18>\n",
      "  <Event 1; Running Op 1; Available at Time 14; Executed 18 to 20; Deadline: 19>\n",
      "  <Event 1; Running Op 3; Available at Time 20; Executed 20 to 26; Deadline: 26>\n",
      "  <Event 1; Running Op 4; Available at Time 26; Executed 26 to 34; Deadline: 36>\n",
      "]\n"
     ]
    }
   ],
   "source": [
    "wp.reset()\n",
    "simulate(edf_schedule,[Event(1,0,4, deadline = 14)], wp, d_lat , 100)\n",
    "print(wp.history())"
   ]
  },
  {
   "cell_type": "code",
   "execution_count": 31,
   "metadata": {
    "scrolled": false
   },
   "outputs": [
    {
     "name": "stdout",
     "output_type": "stream",
     "text": [
      "Activate: <Event 1; Running Op 0; Available at Time 4; Executed None to None; Deadline: 14>\n",
      "finished event: <Event 1; Running Op 0; Available at Time 4; Executed 4 to 14; Deadline: 14>\n",
      "finished event: <Event 1; Running Op 1; Available at Time 14; Executed 14 to 16; Deadline: 19>\n",
      "finished event: <Event 1; Running Op 2; Available at Time 14; Executed 14 to 18; Deadline: 18>\n",
      "finished event: <Event 1; Running Op 3; Available at Time 18; Executed 18 to 24; Deadline: 24>\n",
      "finished event: <Event 1; Running Op 4; Available at Time 24; Executed 24 to 32; Deadline: 34>\n",
      "Worker Pool History: \n",
      "Worker1: [\n",
      "  <Event 1; Running Op 0; Available at Time 4; Executed 4 to 14; Deadline: 14>\n",
      "  <Event 1; Running Op 2; Available at Time 14; Executed 14 to 18; Deadline: 18>\n",
      "  <Event 1; Running Op 3; Available at Time 18; Executed 18 to 24; Deadline: 24>\n",
      "  <Event 1; Running Op 4; Available at Time 24; Executed 24 to 32; Deadline: 34>\n",
      "]\n",
      "Worker2: [\n",
      "  <Event 1; Running Op 1; Available at Time 14; Executed 14 to 16; Deadline: 19>\n",
      "]\n"
     ]
    }
   ],
   "source": [
    "wp2.reset()\n",
    "simulate(edf_schedule,[Event(1,0,4,14)], wp2, d_lat , 300)\n",
    "print(wp2.history())"
   ]
  }
 ],
 "metadata": {
  "kernelspec": {
   "display_name": "Python 3",
   "language": "python",
   "name": "python3"
  },
  "language_info": {
   "codemirror_mode": {
    "name": "ipython",
    "version": 3
   },
   "file_extension": ".py",
   "mimetype": "text/x-python",
   "name": "python",
   "nbconvert_exporter": "python",
   "pygments_lexer": "ipython3",
   "version": "3.8.3"
  }
 },
 "nbformat": 4,
 "nbformat_minor": 4
}
