{
 "cells": [
  {
   "cell_type": "code",
   "execution_count": 1,
   "metadata": {},
   "outputs": [],
   "source": [
    "from worker_pool import *\n",
    "from simulator import *"
   ]
  },
  {
   "cell_type": "code",
   "execution_count": 2,
   "metadata": {},
   "outputs": [
    {
     "name": "stdout",
     "output_type": "stream",
     "text": [
      "Lattice {0: [1, 2], 1: [3], 2: [3], 3: [4], 4: []}\n",
      "[4]\n"
     ]
    }
   ],
   "source": [
    "op4 = Operator(4,[],8)\n",
    "op3 = Operator(3,[4],6,is_join=True)\n",
    "op2 = Operator(2,[3],4)\n",
    "op1 = Operator(1,[3],2)\n",
    "op0 = Operator(0,[1,2],10)\n",
    "\n",
    "lat = Lattice([op0,op1,op2,op3,op4])\n",
    "\n",
    "print(lat)\n",
    "print (lat.get_children(3))\n",
    "\n",
    "# Lattice {0: [1, 2], 1: [3], 2: [3], 3: [4], 4: []}\n",
    "# [4]"
   ]
  },
  {
   "cell_type": "markdown",
   "metadata": {},
   "source": [
    "``` \n",
    "v1 -> v3 -> v4\n",
    "^      ^   \n",
    "|      |\n",
    "v0 ->  v2\n",
    "```"
   ]
  },
  {
   "cell_type": "code",
   "execution_count": 3,
   "metadata": {},
   "outputs": [
    {
     "data": {
      "text/plain": [
       "(<Task 1; Running Op 0; Available at Time 0; Executed 0 to 3; Deadline: None>,\n",
       " [<Task 1; Running Op 1; Available at Time 3; Executed None to None; Deadline: None>,\n",
       "  <Task 1; Running Op 2; Available at Time 3; Executed None to None; Deadline: None>])"
      ]
     },
     "execution_count": 3,
     "metadata": {},
     "output_type": "execute_result"
    }
   ],
   "source": [
    "event_queue = []\n",
    "e = Task(1,0,0)\n",
    "e.start(lat,0)\n",
    "for i in range(10):\n",
    "    e.step()\n",
    "e.finish(event_queue,lat,2)\n",
    "e,event_queue\n",
    "# (<Task 1; Running Op 0; Available at Time 0; Executed 0 to 3; Deadline: None>,\n",
    "# [<Task 1; Running Op 1; Available at Time 3; Executed None to None; Deadline: None>,\n",
    "#  <Task 1; Running Op 2; Available at Time 3; Executed None to None; Deadline: None>])\n"
   ]
  },
  {
   "cell_type": "code",
   "execution_count": 4,
   "metadata": {},
   "outputs": [
    {
     "data": {
      "text/plain": [
       "GPU Worker 1 -- log: [<Task 7; Running Op 4; Available at Time 2; Executed 2 to None; Deadline: None>]; curr_task: <Task 7; Running Op 4; Available at Time 2; Executed 2 to None; Deadline: None>"
      ]
     },
     "execution_count": 4,
     "metadata": {},
     "output_type": "execute_result"
    }
   ],
   "source": [
    "w = Worker(1)\n",
    "w.do_job(Task(7,4,2),lat,2)\n",
    "w \n",
    "# GPU Worker 1 -- \n",
    "#   log: [<Task 7; Running Op 4; Available at Time 2; Executed 2 to None; Deadline: None>]; \n",
    "#   curr_task: <Task 7; Running Op 4; Available at Time 2; Executed 2 to None; Deadline: None>"
   ]
  },
  {
   "cell_type": "code",
   "execution_count": 5,
   "metadata": {},
   "outputs": [
    {
     "data": {
      "text/plain": [
       "Worker Pool: \n",
       "CPU Worker 0 -- log: []; curr_task: None"
      ]
     },
     "execution_count": 5,
     "metadata": {},
     "output_type": "execute_result"
    }
   ],
   "source": [
    "wp = WorkerPool(1,0)\n",
    "wp\n",
    "# Worker Pool: \n",
    "# Worker 1: [<Event 7; Running Op 4; Available at Time 2>]"
   ]
  },
  {
   "cell_type": "code",
   "execution_count": 6,
   "metadata": {},
   "outputs": [
    {
     "name": "stdout",
     "output_type": "stream",
     "text": [
      "Activate: <Task 2; Running Op 0; Available at Time 4; Executed None to None; Deadline: None>\n",
      "Finished task: <Task 2; Running Op 0; Available at Time 4; Executed 4 to 14; Deadline: None>\n",
      "Finished task: <Task 2; Running Op 1; Available at Time 14; Executed 14 to 16; Deadline: None>\n",
      "Finished task: <Task 2; Running Op 2; Available at Time 14; Executed 16 to 20; Deadline: None>\n",
      "Finished task: <Task 2; Running Op 3; Available at Time 20; Executed 20 to 26; Deadline: None>\n",
      "Finished task: <Task 2; Running Op 4; Available at Time 26; Executed 26 to 34; Deadline: None>\n",
      "Activate: <Task 5; Running Op 0; Available at Time 40; Executed None to None; Deadline: None>\n",
      "Finished task: <Task 5; Running Op 0; Available at Time 40; Executed 40 to 50; Deadline: None>\n",
      "Finished task: <Task 5; Running Op 1; Available at Time 50; Executed 50 to 52; Deadline: None>\n",
      "Finished task: <Task 5; Running Op 2; Available at Time 50; Executed 52 to 56; Deadline: None>\n",
      "Finished task: <Task 5; Running Op 3; Available at Time 56; Executed 56 to 62; Deadline: None>\n",
      "Finished task: <Task 5; Running Op 4; Available at Time 62; Executed 62 to 70; Deadline: None>\n"
     ]
    }
   ],
   "source": [
    "s = FifoSimulator(1,0,[Task(2,0,4),Task(5,0,40)], lat, gpu_exact_match=True)\n",
    "s.simulate(100)"
   ]
  },
  {
   "cell_type": "code",
   "execution_count": 8,
   "metadata": {},
   "outputs": [
    {
     "name": "stdout",
     "output_type": "stream",
     "text": [
      "Worker Pool History: \n",
      "Worker0: [\n",
      "  <Task 2; Running Op 0; Available at Time 4; Executed 4 to 14; Deadline: None>\n",
      "  <Task 2; Running Op 1; Available at Time 14; Executed 14 to 16; Deadline: None>\n",
      "  <Task 2; Running Op 2; Available at Time 14; Executed 16 to 20; Deadline: None>\n",
      "  <Task 2; Running Op 3; Available at Time 20; Executed 20 to 26; Deadline: None>\n",
      "  <Task 2; Running Op 4; Available at Time 26; Executed 26 to 34; Deadline: None>\n",
      "  <Task 5; Running Op 0; Available at Time 40; Executed 40 to 50; Deadline: None>\n",
      "  <Task 5; Running Op 1; Available at Time 50; Executed 50 to 52; Deadline: None>\n",
      "  <Task 5; Running Op 2; Available at Time 50; Executed 52 to 56; Deadline: None>\n",
      "  <Task 5; Running Op 3; Available at Time 56; Executed 56 to 62; Deadline: None>\n",
      "  <Task 5; Running Op 4; Available at Time 62; Executed 62 to 70; Deadline: None>\n",
      "]\n"
     ]
    }
   ],
   "source": [
    "print (s.history())"
   ]
  },
  {
   "cell_type": "code",
   "execution_count": 9,
   "metadata": {},
   "outputs": [
    {
     "name": "stdout",
     "output_type": "stream",
     "text": [
      "Activate: <Task 2; Running Op 0; Available at Time 4; Executed None to None; Deadline: None>\n",
      "Finished task: <Task 2; Running Op 0; Available at Time 4; Executed 4 to 14; Deadline: None>\n",
      "Finished task: <Task 2; Running Op 1; Available at Time 14; Executed 14 to 16; Deadline: None>\n",
      "Finished task: <Task 2; Running Op 2; Available at Time 14; Executed 14 to 18; Deadline: None>\n",
      "Finished task: <Task 2; Running Op 3; Available at Time 18; Executed 18 to 24; Deadline: None>\n",
      "Finished task: <Task 2; Running Op 4; Available at Time 24; Executed 24 to 32; Deadline: None>\n",
      "Activate: <Task 5; Running Op 0; Available at Time 40; Executed None to None; Deadline: None>\n",
      "Finished task: <Task 5; Running Op 0; Available at Time 40; Executed 40 to 50; Deadline: None>\n",
      "Finished task: <Task 5; Running Op 1; Available at Time 50; Executed 50 to 52; Deadline: None>\n",
      "Finished task: <Task 5; Running Op 2; Available at Time 50; Executed 50 to 54; Deadline: None>\n",
      "Finished task: <Task 5; Running Op 3; Available at Time 54; Executed 54 to 60; Deadline: None>\n",
      "Finished task: <Task 5; Running Op 4; Available at Time 60; Executed 60 to 68; Deadline: None>\n"
     ]
    }
   ],
   "source": [
    "s = FifoSimulator(2,0,[Task(2,0,4),Task(5,0,40)], lat, gpu_exact_match=True)\n",
    "s.simulate(100)"
   ]
  },
  {
   "cell_type": "code",
   "execution_count": 10,
   "metadata": {},
   "outputs": [
    {
     "name": "stdout",
     "output_type": "stream",
     "text": [
      "Worker Pool History: \n",
      "Worker0: [\n",
      "  <Task 2; Running Op 0; Available at Time 4; Executed 4 to 14; Deadline: None>\n",
      "  <Task 2; Running Op 1; Available at Time 14; Executed 14 to 16; Deadline: None>\n",
      "  <Task 2; Running Op 3; Available at Time 18; Executed 18 to 24; Deadline: None>\n",
      "  <Task 2; Running Op 4; Available at Time 24; Executed 24 to 32; Deadline: None>\n",
      "  <Task 5; Running Op 0; Available at Time 40; Executed 40 to 50; Deadline: None>\n",
      "  <Task 5; Running Op 1; Available at Time 50; Executed 50 to 52; Deadline: None>\n",
      "  <Task 5; Running Op 3; Available at Time 54; Executed 54 to 60; Deadline: None>\n",
      "  <Task 5; Running Op 4; Available at Time 60; Executed 60 to 68; Deadline: None>\n",
      "]\n",
      "Worker1: [\n",
      "  <Task 2; Running Op 2; Available at Time 14; Executed 14 to 18; Deadline: None>\n",
      "  <Task 5; Running Op 2; Available at Time 50; Executed 50 to 54; Deadline: None>\n",
      "]\n"
     ]
    }
   ],
   "source": [
    "print(s.history())"
   ]
  },
  {
   "cell_type": "code",
   "execution_count": 13,
   "metadata": {},
   "outputs": [
    {
     "name": "stdout",
     "output_type": "stream",
     "text": [
      "Activate: <Task 2; Running Op 0; Available at Time 4; Executed None to None; Deadline: None>\n",
      "Activate: <Task 5; Running Op 0; Available at Time 4; Executed None to None; Deadline: None>\n",
      "Finished task: <Task 2; Running Op 0; Available at Time 4; Executed 4 to 14; Deadline: None>\n",
      "Finished task: <Task 5; Running Op 0; Available at Time 4; Executed 4 to 14; Deadline: None>\n",
      "Finished task: <Task 2; Running Op 1; Available at Time 14; Executed 14 to 16; Deadline: None>\n",
      "Finished task: <Task 5; Running Op 1; Available at Time 14; Executed 16 to 18; Deadline: None>\n",
      "Finished task: <Task 2; Running Op 2; Available at Time 14; Executed 14 to 18; Deadline: None>\n",
      "Finished task: <Task 5; Running Op 2; Available at Time 14; Executed 18 to 22; Deadline: None>\n",
      "Finished task: <Task 2; Running Op 3; Available at Time 18; Executed 18 to 24; Deadline: None>\n",
      "Finished task: <Task 2; Running Op 3; Available at Time 22; Executed 22 to 28; Deadline: None>\n",
      "Finished task: <Task 2; Running Op 4; Available at Time 24; Executed 24 to 32; Deadline: None>\n",
      "Finished task: <Task 2; Running Op 4; Available at Time 28; Executed 28 to 36; Deadline: None>\n",
      "Worker Pool History: \n",
      "Worker0: [\n",
      "  <Task 2; Running Op 0; Available at Time 4; Executed 4 to 14; Deadline: None>\n",
      "  <Task 2; Running Op 1; Available at Time 14; Executed 14 to 16; Deadline: None>\n",
      "  <Task 5; Running Op 1; Available at Time 14; Executed 16 to 18; Deadline: None>\n",
      "  <Task 5; Running Op 2; Available at Time 14; Executed 18 to 22; Deadline: None>\n",
      "  <Task 2; Running Op 3; Available at Time 22; Executed 22 to 28; Deadline: None>\n",
      "  <Task 2; Running Op 4; Available at Time 28; Executed 28 to 36; Deadline: None>\n",
      "]\n",
      "Worker1: [\n",
      "  <Task 5; Running Op 0; Available at Time 4; Executed 4 to 14; Deadline: None>\n",
      "  <Task 2; Running Op 2; Available at Time 14; Executed 14 to 18; Deadline: None>\n",
      "  <Task 2; Running Op 3; Available at Time 18; Executed 18 to 24; Deadline: None>\n",
      "  <Task 2; Running Op 4; Available at Time 24; Executed 24 to 32; Deadline: None>\n",
      "]\n"
     ]
    }
   ],
   "source": [
    "s = FifoSimulator(2,0,[Task(2,0,4),Task(5,0,4)], lat, gpu_exact_match=True)\n",
    "s.simulate(100)\n",
    "print(s.history())"
   ]
  },
  {
   "cell_type": "markdown",
   "metadata": {},
   "source": [
    "## DEADLINES"
   ]
  },
  {
   "cell_type": "code",
   "execution_count": 14,
   "metadata": {},
   "outputs": [],
   "source": [
    "d_op4 = Operator(4,[],8, relative_deadline = 10)\n",
    "d_op3 = Operator(3,[4],6,is_join=True, relative_deadline = 6)\n",
    "d_op2 = Operator(2,[3],4, relative_deadline=4)\n",
    "d_op1 = Operator(1,[3],2, relative_deadline=5)\n",
    "d_op0 = Operator(0,[1,2],10, relative_deadline=10)\n",
    "\n",
    "d_lat = Lattice([d_op0,d_op1,d_op2,d_op3,d_op4])"
   ]
  },
  {
   "cell_type": "code",
   "execution_count": 17,
   "metadata": {
    "scrolled": false
   },
   "outputs": [
    {
     "name": "stdout",
     "output_type": "stream",
     "text": [
      "Activate: <Task 1; Running Op 0; Available at Time 4; Executed None to None; Deadline: 14>\n",
      "Finished task: <Task 1; Running Op 0; Available at Time 4; Executed 4 to 14; Deadline: 14>\n",
      "Finished task: <Task 1; Running Op 1; Available at Time 14; Executed 14 to 16; Deadline: 19>\n",
      "WARNING: DEADLINE MISSED [D:18; F:20]\n",
      "Finished task: <Task 1; Running Op 2; Available at Time 14; Executed 16 to 20; Deadline: 18>\n",
      "Finished task: <Task 1; Running Op 3; Available at Time 20; Executed 20 to 26; Deadline: 26>\n",
      "Finished task: <Task 1; Running Op 4; Available at Time 26; Executed 26 to 34; Deadline: 36>\n",
      "Worker Pool History: \n",
      "Worker0: [\n",
      "  <Task 1; Running Op 0; Available at Time 4; Executed 4 to 14; Deadline: 14>\n",
      "  <Task 1; Running Op 1; Available at Time 14; Executed 14 to 16; Deadline: 19>\n",
      "  <Task 1; Running Op 2; Available at Time 14; Executed 16 to 20; Deadline: 18>\n",
      "  <Task 1; Running Op 3; Available at Time 20; Executed 20 to 26; Deadline: 26>\n",
      "  <Task 1; Running Op 4; Available at Time 26; Executed 26 to 34; Deadline: 36>\n",
      "]\n"
     ]
    }
   ],
   "source": [
    "\n",
    "task_list = [Task(1,0,4,deadline=14)]\n",
    "s = FifoSimulator(1,0,task_list, d_lat, gpu_exact_match=True)\n",
    "s.simulate(100)\n",
    "print(s.history())"
   ]
  },
  {
   "cell_type": "code",
   "execution_count": 19,
   "metadata": {
    "scrolled": false
   },
   "outputs": [
    {
     "name": "stdout",
     "output_type": "stream",
     "text": [
      "Activate: <Task 1; Running Op 0; Available at Time 4; Executed None to None; Deadline: 14>\n",
      "Finished task: <Task 1; Running Op 0; Available at Time 4; Executed 4 to 14; Deadline: 14>\n",
      "Finished task: <Task 1; Running Op 2; Available at Time 14; Executed 14 to 18; Deadline: 18>\n",
      "WARNING: DEADLINE MISSED [D:19; F:20]\n",
      "Finished task: <Task 1; Running Op 1; Available at Time 14; Executed 18 to 20; Deadline: 19>\n",
      "Finished task: <Task 1; Running Op 3; Available at Time 20; Executed 20 to 26; Deadline: 26>\n",
      "Finished task: <Task 1; Running Op 4; Available at Time 26; Executed 26 to 34; Deadline: 36>\n",
      "Worker Pool History: \n",
      "Worker0: [\n",
      "  <Task 1; Running Op 0; Available at Time 4; Executed 4 to 14; Deadline: 14>\n",
      "  <Task 1; Running Op 2; Available at Time 14; Executed 14 to 18; Deadline: 18>\n",
      "  <Task 1; Running Op 1; Available at Time 14; Executed 18 to 20; Deadline: 19>\n",
      "  <Task 1; Running Op 3; Available at Time 20; Executed 20 to 26; Deadline: 26>\n",
      "  <Task 1; Running Op 4; Available at Time 26; Executed 26 to 34; Deadline: 36>\n",
      "]\n"
     ]
    }
   ],
   "source": [
    "task_list = [Task(1,0,4,deadline=14)]\n",
    "s = EdfSimulator(1,0,task_list, d_lat)\n",
    "s.simulate(100)\n",
    "print(s.history())"
   ]
  },
  {
   "cell_type": "code",
   "execution_count": 20,
   "metadata": {
    "scrolled": false
   },
   "outputs": [
    {
     "name": "stdout",
     "output_type": "stream",
     "text": [
      "Activate: <Task 1; Running Op 0; Available at Time 4; Executed None to None; Deadline: 14>\n",
      "Finished task: <Task 1; Running Op 0; Available at Time 4; Executed 4 to 14; Deadline: 14>\n",
      "Finished task: <Task 1; Running Op 1; Available at Time 14; Executed 14 to 16; Deadline: 19>\n",
      "Finished task: <Task 1; Running Op 2; Available at Time 14; Executed 14 to 18; Deadline: 18>\n",
      "Finished task: <Task 1; Running Op 3; Available at Time 18; Executed 18 to 24; Deadline: 24>\n",
      "Finished task: <Task 1; Running Op 4; Available at Time 24; Executed 24 to 32; Deadline: 34>\n",
      "Worker Pool History: \n",
      "Worker0: [\n",
      "  <Task 1; Running Op 0; Available at Time 4; Executed 4 to 14; Deadline: 14>\n",
      "  <Task 1; Running Op 2; Available at Time 14; Executed 14 to 18; Deadline: 18>\n",
      "  <Task 1; Running Op 3; Available at Time 18; Executed 18 to 24; Deadline: 24>\n",
      "  <Task 1; Running Op 4; Available at Time 24; Executed 24 to 32; Deadline: 34>\n",
      "]\n",
      "Worker1: [\n",
      "  <Task 1; Running Op 1; Available at Time 14; Executed 14 to 16; Deadline: 19>\n",
      "]\n"
     ]
    }
   ],
   "source": [
    "task_list = [Task(1,0,4,deadline=14)]\n",
    "s = EdfSimulator(2,0,task_list, d_lat)\n",
    "s.simulate(300)\n",
    "print(s.history())"
   ]
  }
 ],
 "metadata": {
  "kernelspec": {
   "display_name": "Python 3",
   "language": "python",
   "name": "python3"
  },
  "language_info": {
   "codemirror_mode": {
    "name": "ipython",
    "version": 3
   },
   "file_extension": ".py",
   "mimetype": "text/x-python",
   "name": "python",
   "nbconvert_exporter": "python",
   "pygments_lexer": "ipython3",
   "version": "3.8.10"
  }
 },
 "nbformat": 4,
 "nbformat_minor": 4
}
