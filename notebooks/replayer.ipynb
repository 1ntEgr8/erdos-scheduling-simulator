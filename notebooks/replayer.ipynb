{
 "cells": [
  {
   "cell_type": "code",
   "execution_count": 1,
   "id": "47914f60",
   "metadata": {},
   "outputs": [],
   "source": [
    "from simulator import *\n",
    "from data_loader import TaskDataLoader"
   ]
  },
  {
   "cell_type": "code",
   "execution_count": 2,
   "id": "1ce9c9b4",
   "metadata": {},
   "outputs": [
    {
     "name": "stdout",
     "output_type": "stream",
     "text": [
      "Times are relative to UNIX time: 1625637636138946; \n",
      " first task in replay starts at 0 and end at 439448724\n",
      "There are 18459 tasks.\n",
      " There are 924 logical time labels ending with 52961\n"
     ]
    }
   ],
   "source": [
    "tasks = TaskDataLoader(\"pylot_profile.json\", verbose = 1)"
   ]
  },
  {
   "cell_type": "code",
   "execution_count": 3,
   "id": "a1cfa38a",
   "metadata": {},
   "outputs": [
    {
     "data": {
      "text/plain": [
       "[(0, 'behavior_planning.on_watermark', False), (1, 'center_camera_location_finder_history_operator.on_watermark', False), (2, 'center_camera_operator.process_images', False), (3, 'center_camera_operator.release_data', False), (4, 'faster-rcnn.on_msg_camera_stream', True), (5, 'front_center_lidar_operator.process_point_clouds', False), (6, 'gnss_operator.process_gnss', False), (7, 'imu_operator.process_imu', False), (8, 'lanenet_lane_detection.on_camera_frame', True), (9, 'linear_prediction_operator.generate_predicted_trajectories', False), (10, 'localization_operator.on_watermark', False), (11, 'pid_control_operator.on_watermark', False), (12, 'planning_operator.on_prediction_update', False), (13, 'planning_operator.on_time_to_decision', False), (14, 'planning_operator.on_watermark', False), (15, 'simulator_bridge_operator.on_control_msg', False), (16, 'simulator_bridge_operator.send_actor_data', False), (17, 'tracker_sort.on_watermark', False), (18, 'traffic_light_camera_location_finder_operator.on_watermark', False), (19, 'traffic_light_camera_operator.process_images', False), (20, 'traffic_light_camera_operator.release_data', False), (21, 'traffic_light_detector_operator.on_frame', False)]"
      ]
     },
     "execution_count": 3,
     "metadata": {},
     "output_type": "execute_result"
    }
   ],
   "source": [
    "\n",
    "tasks.get_ops_converter()"
   ]
  },
  {
   "cell_type": "code",
   "execution_count": 4,
   "id": "4d371a90",
   "metadata": {},
   "outputs": [
    {
     "data": {
      "text/plain": [
       "[('gnss_operator.process_gnss', {'timestamp': 52911}, 438543587),\n",
       " ('front_center_lidar_operator.process_point_clouds',\n",
       "  {'timestamp': 52911},\n",
       "  438557720),\n",
       " ('simulator_bridge_operator.send_actor_data',\n",
       "  {'timestamp': 52911},\n",
       "  438539467),\n",
       " ('imu_operator.process_imu', {'timestamp': 52911}, 438587383),\n",
       " ('localization_operator.on_watermark', {'timestamp': 52911}, 438588697),\n",
       " ('behavior_planning.on_watermark', {'timestamp': 52911}, 438591248),\n",
       " ('planning_operator.on_time_to_decision', {'timestamp': 52911}, 438591830),\n",
       " ('traffic_light_camera_operator.process_images',\n",
       "  {'timestamp': 52911},\n",
       "  438751770),\n",
       " ('center_camera_operator.process_images', {'timestamp': 52911}, 438754872),\n",
       " ('faster-rcnn.on_msg_camera_stream', {'timestamp': 52911}, 438796827),\n",
       " ('tracker_sort.on_watermark', {'timestamp': 52911}, 438877905),\n",
       " ('traffic_light_detector_operator.on_frame', {'timestamp': 52911}, 438786973),\n",
       " ('traffic_light_camera_location_finder_operator.on_watermark',\n",
       "  {'timestamp': 52911},\n",
       "  438883667),\n",
       " ('center_camera_location_finder_history_operator.on_watermark',\n",
       "  {'timestamp': 52911},\n",
       "  438881400),\n",
       " ('linear_prediction_operator.generate_predicted_trajectories',\n",
       "  {'timestamp': 52911},\n",
       "  438887639),\n",
       " ('planning_operator.on_prediction_update', {'timestamp': 52911}, 438893687),\n",
       " ('lanenet_lane_detection.on_camera_frame', {'timestamp': 52911}, 438796611),\n",
       " ('planning_operator.on_watermark', {'timestamp': 52911}, 438992036),\n",
       " ('pid_control_operator.on_watermark', {'timestamp': 52911}, 439190116),\n",
       " ('simulator_bridge_operator.on_control_msg', {'timestamp': 52911}, 439191360)]"
      ]
     },
     "execution_count": 4,
     "metadata": {},
     "output_type": "execute_result"
    }
   ],
   "source": [
    "b = [(entry['name'], entry['args'], entry['ts']) for entry in tasks.get_data_as_binned()[-2]]\n",
    "b"
   ]
  },
  {
   "cell_type": "code",
   "execution_count": 5,
   "id": "55d19d19",
   "metadata": {},
   "outputs": [
    {
     "data": {
      "text/plain": [
       "{'name': 'center_camera_operator.release_data',\n",
       " 'pid': 'center_camera_operator',\n",
       " 'tid': 1,\n",
       " 'ts': 0,\n",
       " 'dur': 39,\n",
       " 'ph': 'X',\n",
       " 'args': {'timestamp': 0}}"
      ]
     },
     "execution_count": 5,
     "metadata": {},
     "output_type": "execute_result"
    }
   ],
   "source": [
    "tasks.get_data()[0]"
   ]
  },
  {
   "cell_type": "code",
   "execution_count": 6,
   "id": "405cf857",
   "metadata": {},
   "outputs": [
    {
     "data": {
      "text/plain": [
       "[<Task 0; Running Op 3; Available at Time 0; Executed None to None; Deadline: None>,\n",
       " <Task 1; Running Op 20; Available at Time 886; Executed None to None; Deadline: None>,\n",
       " <Task 2; Running Op 6; Available at Time 4009432; Executed None to None; Deadline: None>,\n",
       " <Task 3; Running Op 5; Available at Time 4026421; Executed None to None; Deadline: None>,\n",
       " <Task 4; Running Op 7; Available at Time 4052420; Executed None to None; Deadline: None>]"
      ]
     },
     "execution_count": 6,
     "metadata": {},
     "output_type": "execute_result"
    }
   ],
   "source": [
    "tasks.get_task_list()[0:5]"
   ]
  },
  {
   "cell_type": "code",
   "execution_count": 7,
   "id": "b1efce85",
   "metadata": {
    "scrolled": true
   },
   "outputs": [
    {
     "data": {
      "text/plain": [
       "Lattice {0: [], 1: [], 2: [], 3: [], 4: [], 5: [], 6: [], 7: [], 8: [], 9: [], 10: [], 11: [], 12: [], 13: [], 14: [], 15: [], 16: [], 17: [], 18: [], 19: [], 20: [], 21: []}"
      ]
     },
     "execution_count": 7,
     "metadata": {},
     "output_type": "execute_result"
    }
   ],
   "source": [
    "tasks.get_lattice()"
   ]
  },
  {
   "cell_type": "code",
   "execution_count": 8,
   "id": "2a8092a3",
   "metadata": {},
   "outputs": [
    {
     "name": "stdout",
     "output_type": "stream",
     "text": [
      "[False, False, False, False, False, False, False, False, False, False, False, True, False, False, False, False, False, False, True, False, False, False, False, False, False, False, False, False, False, False, False, True, True, False, False, False, False, False, False, False, False, False, False, False, False, False, False, False, False, False, False, True, True, False, False, False, False, False, False, False, False, False, False, False, False, False, False, False, False, False, False, True, True, False, False, False, False, False, False, False, False, False, False, False, False, False, False, False, False, False, False, True, True, False, False, False, False, False, False, False]\n",
      "Worker Pool: \n",
      "GPU Worker 0 -- log: []; curr_task: None\n",
      "GPU Worker 1 -- log: []; curr_task: None\n",
      "GPU Worker 2 -- log: []; curr_task: None\n",
      "GPU Worker 3 -- log: []; curr_task: None\n",
      "GPU Worker 4 -- log: []; curr_task: None\n",
      "GPU Worker 5 -- log: []; curr_task: None\n",
      "GPU Worker 6 -- log: []; curr_task: None\n",
      "GPU Worker 7 -- log: []; curr_task: None\n",
      "GPU Worker 8 -- log: []; curr_task: None\n",
      "GPU Worker 9 -- log: []; curr_task: None\n",
      "CPU Worker 0 -- log: []; curr_task: None\n",
      "CPU Worker 1 -- log: []; curr_task: None\n",
      "CPU Worker 2 -- log: []; curr_task: None\n",
      "CPU Worker 3 -- log: []; curr_task: None\n",
      "CPU Worker 4 -- log: []; curr_task: None\n",
      "CPU Worker 5 -- log: []; curr_task: None\n",
      "CPU Worker 6 -- log: []; curr_task: None\n",
      "CPU Worker 7 -- log: []; curr_task: None\n",
      "CPU Worker 8 -- log: []; curr_task: None\n",
      "CPU Worker 9 -- log: []; curr_task: None\n"
     ]
    }
   ],
   "source": [
    "s = FifoSimulator(10,10,tasks.get_task_list()[0:100], tasks.get_lattice(), gpu_exact_match=True)\n",
    "print ([e.needs_gpu for e in tasks.get_task_list()[0:100]])\n",
    "print (s.worker_pool)"
   ]
  },
  {
   "cell_type": "code",
   "execution_count": 9,
   "id": "9513c534",
   "metadata": {},
   "outputs": [
    {
     "name": "stdout",
     "output_type": "stream",
     "text": [
      "Activate: <Task 0; Running Op 3; Available at Time 0; Executed None to None; Deadline: None>\n",
      "Finished task: <Task 0; Running Op 3; Available at Time 0; Executed 0 to 39; Deadline: None>\n",
      "Activate: <Task 1; Running Op 20; Available at Time 886; Executed None to None; Deadline: None>\n",
      "Finished task: <Task 1; Running Op 20; Available at Time 886; Executed 886 to 913; Deadline: None>\n",
      "Activate: <Task 2; Running Op 6; Available at Time 4009432; Executed None to None; Deadline: None>\n",
      "Finished task: <Task 2; Running Op 6; Available at Time 4009432; Executed 4009432 to 4010916; Deadline: None>\n",
      "Activate: <Task 3; Running Op 5; Available at Time 4026421; Executed None to None; Deadline: None>\n",
      "Finished task: <Task 3; Running Op 5; Available at Time 4026421; Executed 4026421 to 4030068; Deadline: None>\n",
      "Activate: <Task 4; Running Op 7; Available at Time 4052420; Executed None to None; Deadline: None>\n",
      "Finished task: <Task 4; Running Op 7; Available at Time 4052420; Executed 4052420 to 4053894; Deadline: None>\n",
      "Activate: <Task 7; Running Op 16; Available at Time 4055579; Executed None to None; Deadline: None>\n",
      "Activate: <Task 5; Running Op 10; Available at Time 4058387; Executed None to None; Deadline: None>\n",
      "Finished task: <Task 5; Running Op 10; Available at Time 4058387; Executed 4058387 to 4059417; Deadline: None>\n",
      "Activate: <Task 8; Running Op 0; Available at Time 4060117; Executed None to None; Deadline: None>\n",
      "Activate: <Task 6; Running Op 13; Available at Time 4062088; Executed None to None; Deadline: None>\n",
      "Finished task: <Task 6; Running Op 13; Available at Time 4062088; Executed 4062088 to 4062264; Deadline: None>\n",
      "Finished task: <Task 7; Running Op 16; Available at Time 4055579; Executed 4055579 to 4082815; Deadline: None>\n",
      "Finished task: <Task 8; Running Op 0; Available at Time 4060117; Executed 4060117 to 4105124; Deadline: None>\n",
      "Activate: <Task 9; Running Op 19; Available at Time 4228295; Executed None to None; Deadline: None>\n",
      "Activate: <Task 10; Running Op 2; Available at Time 4234986; Executed None to None; Deadline: None>\n",
      "Finished task: <Task 9; Running Op 19; Available at Time 4228295; Executed 4228295 to 4262475; Deadline: None>\n",
      "Finished task: <Task 10; Running Op 2; Available at Time 4234986; Executed 4234986 to 4270931; Deadline: None>\n",
      "Activate: <Task 12; Running Op 21; Available at Time 4292785; Executed None to None; Deadline: None>\n",
      "Activate: <Task 11; Running Op 4; Available at Time 4300783; Executed None to None; Deadline: None>\n",
      "Activate: <Task 18; Running Op 8; Available at Time 4304744; Executed None to None; Deadline: None>\n",
      "Finished task: <Task 11; Running Op 4; Available at Time 4300783; Executed 4300783 to 4405374; Deadline: None>\n",
      "Activate: <Task 13; Running Op 17; Available at Time 4406190; Executed None to None; Deadline: None>\n",
      "Finished task: <Task 12; Running Op 21; Available at Time 4292785; Executed 4292785 to 4408360; Deadline: None>\n",
      "Finished task: <Task 13; Running Op 17; Available at Time 4406190; Executed 4406190 to 4408673; Deadline: None>\n",
      "Activate: <Task 14; Running Op 18; Available at Time 4409502; Executed None to None; Deadline: None>\n",
      "Activate: <Task 15; Running Op 1; Available at Time 4409838; Executed None to None; Deadline: None>\n",
      "Finished task: <Task 14; Running Op 18; Available at Time 4409502; Executed 4409502 to 4412198; Deadline: None>\n",
      "Finished task: <Task 15; Running Op 1; Available at Time 4409838; Executed 4409838 to 4420785; Deadline: None>\n",
      "Activate: <Task 16; Running Op 9; Available at Time 4421744; Executed None to None; Deadline: None>\n",
      "Finished task: <Task 16; Running Op 9; Available at Time 4421744; Executed 4421744 to 4422589; Deadline: None>\n",
      "Activate: <Task 17; Running Op 12; Available at Time 4423314; Executed None to None; Deadline: None>\n",
      "Finished task: <Task 17; Running Op 12; Available at Time 4423314; Executed 4423314 to 4423563; Deadline: None>\n",
      "Finished task: <Task 18; Running Op 8; Available at Time 4304744; Executed 4304744 to 6548143; Deadline: None>\n",
      "Activate: <Task 19; Running Op 14; Available at Time 6549706; Executed None to None; Deadline: None>\n",
      "Finished task: <Task 19; Running Op 14; Available at Time 6549706; Executed 6549706 to 6721220; Deadline: None>\n",
      "Activate: <Task 20; Running Op 11; Available at Time 6722725; Executed None to None; Deadline: None>\n",
      "Finished task: <Task 20; Running Op 11; Available at Time 6722725; Executed 6722725 to 6725432; Deadline: None>\n",
      "Activate: <Task 28; Running Op 15; Available at Time 6726267; Executed None to None; Deadline: None>\n",
      "Activate: <Task 23; Running Op 16; Available at Time 6732011; Executed None to None; Deadline: None>\n",
      "Activate: <Task 21; Running Op 6; Available at Time 6736813; Executed None to None; Deadline: None>\n",
      "Finished task: <Task 21; Running Op 6; Available at Time 6736813; Executed 6736813 to 6737297; Deadline: None>\n",
      "Activate: <Task 22; Running Op 5; Available at Time 6751744; Executed None to None; Deadline: None>\n",
      "Finished task: <Task 22; Running Op 5; Available at Time 6751744; Executed 6751744 to 6753192; Deadline: None>\n",
      "Finished task: <Task 23; Running Op 16; Available at Time 6732011; Executed 6732011 to 6758233; Deadline: None>\n",
      "Activate: <Task 24; Running Op 7; Available at Time 6783132; Executed None to None; Deadline: None>\n",
      "Finished task: <Task 24; Running Op 7; Available at Time 6783132; Executed 6783132 to 6783704; Deadline: None>\n",
      "Activate: <Task 25; Running Op 10; Available at Time 6784416; Executed None to None; Deadline: None>\n",
      "Finished task: <Task 25; Running Op 10; Available at Time 6784416; Executed 6784416 to 6784958; Deadline: None>\n",
      "Activate: <Task 26; Running Op 0; Available at Time 6785664; Executed None to None; Deadline: None>\n",
      "Activate: <Task 27; Running Op 13; Available at Time 6786083; Executed None to None; Deadline: None>\n",
      "Finished task: <Task 26; Running Op 0; Available at Time 6785664; Executed 6785664 to 6786161; Deadline: None>\n",
      "Finished task: <Task 27; Running Op 13; Available at Time 6786083; Executed 6786083 to 6786241; Deadline: None>\n",
      "Finished task: <Task 28; Running Op 15; Available at Time 6726267; Executed 6726267 to 6788463; Deadline: None>\n",
      "Activate: <Task 30; Running Op 19; Available at Time 6863184; Executed None to None; Deadline: None>\n",
      "Activate: <Task 29; Running Op 2; Available at Time 6864985; Executed None to None; Deadline: None>\n",
      "Finished task: <Task 29; Running Op 2; Available at Time 6864985; Executed 6864985 to 6893422; Deadline: None>\n",
      "Finished task: <Task 30; Running Op 19; Available at Time 6863184; Executed 6863184 to 6896776; Deadline: None>\n",
      "Activate: <Task 32; Running Op 4; Available at Time 6911747; Executed None to None; Deadline: None>\n",
      "Activate: <Task 33; Running Op 21; Available at Time 6917751; Executed None to None; Deadline: None>\n",
      "Activate: <Task 31; Running Op 8; Available at Time 6933213; Executed None to None; Deadline: None>\n",
      "Finished task: <Task 31; Running Op 8; Available at Time 6933213; Executed 6933213 to 6979999; Deadline: None>\n",
      "Finished task: <Task 32; Running Op 4; Available at Time 6911747; Executed 6911747 to 6997445; Deadline: None>\n",
      "Activate: <Task 35; Running Op 17; Available at Time 6998263; Executed None to None; Deadline: None>\n",
      "Finished task: <Task 33; Running Op 21; Available at Time 6917751; Executed 6917751 to 7002022; Deadline: None>\n",
      "Activate: <Task 34; Running Op 18; Available at Time 7002930; Executed None to None; Deadline: None>\n",
      "Finished task: <Task 34; Running Op 18; Available at Time 7002930; Executed 7002930 to 7004345; Deadline: None>\n",
      "Finished task: <Task 35; Running Op 17; Available at Time 6998263; Executed 6998263 to 7005817; Deadline: None>\n",
      "Activate: <Task 36; Running Op 1; Available at Time 7006816; Executed None to None; Deadline: None>\n",
      "Finished task: <Task 36; Running Op 1; Available at Time 7006816; Executed 7006816 to 7013329; Deadline: None>\n",
      "Activate: <Task 37; Running Op 9; Available at Time 7013816; Executed None to None; Deadline: None>\n",
      "Finished task: <Task 37; Running Op 9; Available at Time 7013816; Executed 7013816 to 7014376; Deadline: None>\n",
      "Activate: <Task 38; Running Op 12; Available at Time 7014893; Executed None to None; Deadline: None>\n",
      "Finished task: <Task 38; Running Op 12; Available at Time 7014893; Executed 7014893 to 7015079; Deadline: None>\n",
      "Activate: <Task 39; Running Op 14; Available at Time 7015285; Executed None to None; Deadline: None>\n"
     ]
    },
    {
     "name": "stdout",
     "output_type": "stream",
     "text": [
      "Finished task: <Task 39; Running Op 14; Available at Time 7015285; Executed 7015285 to 7172602; Deadline: None>\n",
      "Activate: <Task 40; Running Op 11; Available at Time 7173437; Executed None to None; Deadline: None>\n",
      "Finished task: <Task 40; Running Op 11; Available at Time 7173437; Executed 7173437 to 7174457; Deadline: None>\n",
      "Activate: <Task 45; Running Op 15; Available at Time 7174967; Executed None to None; Deadline: None>\n",
      "Activate: <Task 43; Running Op 16; Available at Time 7180457; Executed None to None; Deadline: None>\n",
      "Activate: <Task 41; Running Op 6; Available at Time 7185160; Executed None to None; Deadline: None>\n",
      "Finished task: <Task 41; Running Op 6; Available at Time 7185160; Executed 7185160 to 7185565; Deadline: None>\n",
      "Activate: <Task 42; Running Op 5; Available at Time 7198474; Executed None to None; Deadline: None>\n",
      "Finished task: <Task 42; Running Op 5; Available at Time 7198474; Executed 7198474 to 7200468; Deadline: None>\n",
      "Finished task: <Task 43; Running Op 16; Available at Time 7180457; Executed 7180457 to 7207572; Deadline: None>\n",
      "Activate: <Task 44; Running Op 7; Available at Time 7225622; Executed None to None; Deadline: None>\n",
      "Finished task: <Task 44; Running Op 7; Available at Time 7225622; Executed 7225622 to 7226113; Deadline: None>\n",
      "Activate: <Task 46; Running Op 10; Available at Time 7226842; Executed None to None; Deadline: None>\n",
      "Finished task: <Task 45; Running Op 15; Available at Time 7174967; Executed 7174967 to 7230471; Deadline: None>\n",
      "Finished task: <Task 46; Running Op 10; Available at Time 7226842; Executed 7226842 to 7232462; Deadline: None>\n",
      "Activate: <Task 48; Running Op 0; Available at Time 7234382; Executed None to None; Deadline: None>\n",
      "Activate: <Task 47; Running Op 13; Available at Time 7234726; Executed None to None; Deadline: None>\n",
      "Finished task: <Task 47; Running Op 13; Available at Time 7234726; Executed 7234726 to 7234930; Deadline: None>\n",
      "Finished task: <Task 48; Running Op 0; Available at Time 7234382; Executed 7234382 to 7235137; Deadline: None>\n",
      "Activate: <Task 49; Running Op 19; Available at Time 7337058; Executed None to None; Deadline: None>\n",
      "Activate: <Task 50; Running Op 2; Available at Time 7340107; Executed None to None; Deadline: None>\n",
      "Finished task: <Task 49; Running Op 19; Available at Time 7337058; Executed 7337058 to 7361292; Deadline: None>\n",
      "Finished task: <Task 50; Running Op 2; Available at Time 7340107; Executed 7340107 to 7363515; Deadline: None>\n",
      "Activate: <Task 51; Running Op 8; Available at Time 7372611; Executed None to None; Deadline: None>\n",
      "Activate: <Task 54; Running Op 21; Available at Time 7381020; Executed None to None; Deadline: None>\n",
      "Activate: <Task 52; Running Op 4; Available at Time 7384237; Executed None to None; Deadline: None>\n",
      "Finished task: <Task 51; Running Op 8; Available at Time 7372611; Executed 7372611 to 7429615; Deadline: None>\n",
      "Finished task: <Task 52; Running Op 4; Available at Time 7384237; Executed 7384237 to 7471636; Deadline: None>\n",
      "Activate: <Task 53; Running Op 17; Available at Time 7472256; Executed None to None; Deadline: None>\n",
      "Finished task: <Task 53; Running Op 17; Available at Time 7472256; Executed 7472256 to 7475208; Deadline: None>\n",
      "Finished task: <Task 54; Running Op 21; Available at Time 7381020; Executed 7381020 to 7475738; Deadline: None>\n",
      "Activate: <Task 56; Running Op 1; Available at Time 7475981; Executed None to None; Deadline: None>\n",
      "Activate: <Task 55; Running Op 18; Available at Time 7476682; Executed None to None; Deadline: None>\n",
      "Finished task: <Task 55; Running Op 18; Available at Time 7476682; Executed 7476682 to 7478108; Deadline: None>\n",
      "Finished task: <Task 56; Running Op 1; Available at Time 7475981; Executed 7475981 to 7481131; Deadline: None>\n",
      "Activate: <Task 57; Running Op 9; Available at Time 7481642; Executed None to None; Deadline: None>\n",
      "Finished task: <Task 57; Running Op 9; Available at Time 7481642; Executed 7481642 to 7482079; Deadline: None>\n",
      "Activate: <Task 58; Running Op 12; Available at Time 7482664; Executed None to None; Deadline: None>\n",
      "Finished task: <Task 58; Running Op 12; Available at Time 7482664; Executed 7482664 to 7482832; Deadline: None>\n",
      "Activate: <Task 59; Running Op 14; Available at Time 7483008; Executed None to None; Deadline: None>\n",
      "Finished task: <Task 59; Running Op 14; Available at Time 7483008; Executed 7483008 to 7645098; Deadline: None>\n",
      "Activate: <Task 60; Running Op 11; Available at Time 7646053; Executed None to None; Deadline: None>\n",
      "Finished task: <Task 60; Running Op 11; Available at Time 7646053; Executed 7646053 to 7647377; Deadline: None>\n",
      "Activate: <Task 68; Running Op 15; Available at Time 7647844; Executed None to None; Deadline: None>\n",
      "Activate: <Task 63; Running Op 16; Available at Time 7651767; Executed None to None; Deadline: None>\n",
      "Activate: <Task 61; Running Op 6; Available at Time 7658359; Executed None to None; Deadline: None>\n",
      "Finished task: <Task 61; Running Op 6; Available at Time 7658359; Executed 7658359 to 7658758; Deadline: None>\n",
      "Activate: <Task 62; Running Op 5; Available at Time 7672194; Executed None to None; Deadline: None>\n",
      "Finished task: <Task 62; Running Op 5; Available at Time 7672194; Executed 7672194 to 7673466; Deadline: None>\n",
      "Finished task: <Task 63; Running Op 16; Available at Time 7651767; Executed 7651767 to 7677200; Deadline: None>\n",
      "Activate: <Task 64; Running Op 7; Available at Time 7700967; Executed None to None; Deadline: None>\n",
      "Finished task: <Task 64; Running Op 7; Available at Time 7700967; Executed 7700967 to 7701479; Deadline: None>\n",
      "Activate: <Task 65; Running Op 10; Available at Time 7702217; Executed None to None; Deadline: None>\n",
      "Finished task: <Task 65; Running Op 10; Available at Time 7702217; Executed 7702217 to 7704054; Deadline: None>\n",
      "Activate: <Task 66; Running Op 0; Available at Time 7704771; Executed None to None; Deadline: None>\n",
      "Finished task: <Task 66; Running Op 0; Available at Time 7704771; Executed 7704771 to 7705274; Deadline: None>\n",
      "Activate: <Task 67; Running Op 13; Available at Time 7705389; Executed None to None; Deadline: None>\n",
      "Finished task: <Task 67; Running Op 13; Available at Time 7705389; Executed 7705389 to 7705546; Deadline: None>\n",
      "Finished task: <Task 68; Running Op 15; Available at Time 7647844; Executed 7647844 to 7705672; Deadline: None>\n",
      "Activate: <Task 69; Running Op 19; Available at Time 7782729; Executed None to None; Deadline: None>\n",
      "Activate: <Task 70; Running Op 2; Available at Time 7788321; Executed None to None; Deadline: None>\n",
      "Finished task: <Task 69; Running Op 19; Available at Time 7782729; Executed 7782729 to 7806080; Deadline: None>\n",
      "Activate: <Task 74; Running Op 21; Available at Time 7816457; Executed None to None; Deadline: None>\n",
      "Finished task: <Task 70; Running Op 2; Available at Time 7788321; Executed 7788321 to 7818072; Deadline: None>\n",
      "Activate: <Task 71; Running Op 8; Available at Time 7827946; Executed None to None; Deadline: None>\n",
      "Activate: <Task 72; Running Op 4; Available at Time 7828782; Executed None to None; Deadline: None>\n",
      "Finished task: <Task 71; Running Op 8; Available at Time 7827946; Executed 7827946 to 7881353; Deadline: None>\n",
      "Finished task: <Task 72; Running Op 4; Available at Time 7828782; Executed 7828782 to 7916272; Deadline: None>\n",
      "Activate: <Task 73; Running Op 17; Available at Time 7916846; Executed None to None; Deadline: None>\n",
      "Finished task: <Task 73; Running Op 17; Available at Time 7916846; Executed 7916846 to 7919710; Deadline: None>\n",
      "Finished task: <Task 74; Running Op 21; Available at Time 7816457; Executed 7816457 to 7920199; Deadline: None>\n",
      "Activate: <Task 76; Running Op 1; Available at Time 7920688; Executed None to None; Deadline: None>\n",
      "Activate: <Task 75; Running Op 18; Available at Time 7920983; Executed None to None; Deadline: None>\n",
      "Finished task: <Task 75; Running Op 18; Available at Time 7920983; Executed 7920983 to 7922421; Deadline: None>\n",
      "Finished task: <Task 76; Running Op 1; Available at Time 7920688; Executed 7920688 to 7925860; Deadline: None>\n",
      "Activate: <Task 77; Running Op 9; Available at Time 7926361; Executed None to None; Deadline: None>\n",
      "Finished task: <Task 77; Running Op 9; Available at Time 7926361; Executed 7926361 to 7926803; Deadline: None>\n",
      "Activate: <Task 78; Running Op 12; Available at Time 7927340; Executed None to None; Deadline: None>\n",
      "Finished task: <Task 78; Running Op 12; Available at Time 7927340; Executed 7927340 to 7927503; Deadline: None>\n",
      "Activate: <Task 79; Running Op 14; Available at Time 7927745; Executed None to None; Deadline: None>\n"
     ]
    },
    {
     "name": "stdout",
     "output_type": "stream",
     "text": [
      "Finished task: <Task 79; Running Op 14; Available at Time 7927745; Executed 7927745 to 8087520; Deadline: None>\n",
      "Activate: <Task 80; Running Op 11; Available at Time 8088641; Executed None to None; Deadline: None>\n",
      "Finished task: <Task 80; Running Op 11; Available at Time 8088641; Executed 8088641 to 8090220; Deadline: None>\n",
      "Activate: <Task 88; Running Op 15; Available at Time 8090698; Executed None to None; Deadline: None>\n",
      "Activate: <Task 83; Running Op 16; Available at Time 8096207; Executed None to None; Deadline: None>\n",
      "Activate: <Task 81; Running Op 6; Available at Time 8100882; Executed None to None; Deadline: None>\n",
      "Finished task: <Task 81; Running Op 6; Available at Time 8100882; Executed 8100882 to 8101301; Deadline: None>\n",
      "Activate: <Task 82; Running Op 5; Available at Time 8115120; Executed None to None; Deadline: None>\n",
      "Finished task: <Task 82; Running Op 5; Available at Time 8115120; Executed 8115120 to 8117109; Deadline: None>\n",
      "Finished task: <Task 83; Running Op 16; Available at Time 8096207; Executed 8096207 to 8121366; Deadline: None>\n",
      "Activate: <Task 84; Running Op 7; Available at Time 8139986; Executed None to None; Deadline: None>\n",
      "Finished task: <Task 84; Running Op 7; Available at Time 8139986; Executed 8139986 to 8140350; Deadline: None>\n",
      "Activate: <Task 85; Running Op 10; Available at Time 8141074; Executed None to None; Deadline: None>\n",
      "Finished task: <Task 85; Running Op 10; Available at Time 8141074; Executed 8141074 to 8142802; Deadline: None>\n",
      "Activate: <Task 86; Running Op 0; Available at Time 8143472; Executed None to None; Deadline: None>\n",
      "Finished task: <Task 86; Running Op 0; Available at Time 8143472; Executed 8143472 to 8143986; Deadline: None>\n",
      "Activate: <Task 87; Running Op 13; Available at Time 8144195; Executed None to None; Deadline: None>\n",
      "Finished task: <Task 87; Running Op 13; Available at Time 8144195; Executed 8144195 to 8144357; Deadline: None>\n",
      "Finished task: <Task 88; Running Op 15; Available at Time 8090698; Executed 8090698 to 8145037; Deadline: None>\n",
      "Activate: <Task 90; Running Op 19; Available at Time 8229902; Executed None to None; Deadline: None>\n",
      "Activate: <Task 89; Running Op 2; Available at Time 8233951; Executed None to None; Deadline: None>\n",
      "Finished task: <Task 89; Running Op 2; Available at Time 8233951; Executed 8233951 to 8273973; Deadline: None>\n",
      "Finished task: <Task 90; Running Op 19; Available at Time 8229902; Executed 8229902 to 8283445; Deadline: None>\n",
      "Activate: <Task 91; Running Op 8; Available at Time 8283791; Executed None to None; Deadline: None>\n",
      "Activate: <Task 92; Running Op 4; Available at Time 8285009; Executed None to None; Deadline: None>\n",
      "Activate: <Task 93; Running Op 21; Available at Time 8292712; Executed None to None; Deadline: None>\n",
      "Finished task: <Task 91; Running Op 8; Available at Time 8283791; Executed 8283791 to 8335777; Deadline: None>\n",
      "Finished task: <Task 92; Running Op 4; Available at Time 8285009; Executed 8285009 to 8374006; Deadline: None>\n",
      "Activate: <Task 94; Running Op 17; Available at Time 8374672; Executed None to None; Deadline: None>\n",
      "Finished task: <Task 93; Running Op 21; Available at Time 8292712; Executed 8292712 to 8377106; Deadline: None>\n",
      "Finished task: <Task 94; Running Op 17; Available at Time 8374672; Executed 8374672 to 8377416; Deadline: None>\n",
      "Activate: <Task 95; Running Op 18; Available at Time 8377884; Executed None to None; Deadline: None>\n",
      "Activate: <Task 96; Running Op 1; Available at Time 8378390; Executed None to None; Deadline: None>\n",
      "Finished task: <Task 95; Running Op 18; Available at Time 8377884; Executed 8377884 to 8379347; Deadline: None>\n",
      "Finished task: <Task 96; Running Op 1; Available at Time 8378390; Executed 8378390 to 8381295; Deadline: None>\n",
      "Activate: <Task 97; Running Op 9; Available at Time 8381710; Executed None to None; Deadline: None>\n",
      "Finished task: <Task 97; Running Op 9; Available at Time 8381710; Executed 8381710 to 8382018; Deadline: None>\n",
      "Activate: <Task 98; Running Op 12; Available at Time 8382578; Executed None to None; Deadline: None>\n",
      "Finished task: <Task 98; Running Op 12; Available at Time 8382578; Executed 8382578 to 8382741; Deadline: None>\n",
      "Activate: <Task 99; Running Op 14; Available at Time 8382917; Executed None to None; Deadline: None>\n",
      "Finished task: <Task 99; Running Op 14; Available at Time 8382917; Executed 8382917 to 8536758; Deadline: None>\n"
     ]
    }
   ],
   "source": [
    "\n",
    "s.simulate( 8537824 + 100 )\n",
    "# s.simulate( 4009432 + 100 )"
   ]
  },
  {
   "cell_type": "code",
   "execution_count": 10,
   "id": "3cbbc339",
   "metadata": {},
   "outputs": [
    {
     "data": {
      "text/plain": [
       "[]"
      ]
     },
     "execution_count": 10,
     "metadata": {},
     "output_type": "execute_result"
    }
   ],
   "source": [
    "s.tasks_list"
   ]
  },
  {
   "cell_type": "code",
   "execution_count": 11,
   "id": "9febec9a",
   "metadata": {},
   "outputs": [],
   "source": [
    "s.show_running_tasks()"
   ]
  },
  {
   "cell_type": "code",
   "execution_count": null,
   "id": "0f513708",
   "metadata": {},
   "outputs": [],
   "source": []
  }
 ],
 "metadata": {
  "kernelspec": {
   "display_name": "Python 3",
   "language": "python",
   "name": "python3"
  },
  "language_info": {
   "codemirror_mode": {
    "name": "ipython",
    "version": 3
   },
   "file_extension": ".py",
   "mimetype": "text/x-python",
   "name": "python",
   "nbconvert_exporter": "python",
   "pygments_lexer": "ipython3",
   "version": "3.8.10"
  }
 },
 "nbformat": 4,
 "nbformat_minor": 5
}
