{
 "cells": [
  {
   "cell_type": "code",
   "execution_count": 1,
   "id": "0b2d0cd7",
   "metadata": {},
   "outputs": [],
   "source": [
    "import json\n",
    "from sim import *\n",
    "import functools\n",
    "from copy import deepcopy"
   ]
  },
  {
   "cell_type": "code",
   "execution_count": 2,
   "id": "f87494c7",
   "metadata": {},
   "outputs": [],
   "source": [
    "\n",
    "class OpsConverter:\n",
    "    def __init__(self, data, needs_gpu):\n",
    "        unique_ops = list({entry['name'] for entry in data})\n",
    "        unique_ops.sort()\n",
    "        self.ops = [(i,op,needs_gpu(op)) for i,op in enumerate(unique_ops)]\n",
    "        self.count = len(self.ops)\n",
    "        self.id_to_ops = {i:op for i,op,_ in self.ops}\n",
    "        self.ops_to_id = {op:i for i,op,_ in self.ops}\n",
    "        self.ids_to_needs_gpu = {i: needs_gpu for i,_,needs_gpu in self.ops}\n",
    "        self.dep_matrix = [[False]*self.count]*self.count\n",
    "    def __repr__(self):\n",
    "        return str(self.ops)\n",
    "    def get_all_ops(self):\n",
    "        return self.ops\n",
    "    def get_id(self,name):\n",
    "        return self.ops_to_id[name]\n",
    "    def get_op(self,idx):\n",
    "        return self.id_to_ops[id]\n",
    "    def get_gpu(self,name):\n",
    "        return self.ids_to_needs_gpu[self.get_id(name)]\n",
    "    def get_deps(self):\n",
    "        return self.dep_matrix\n",
    "    def set_deps(self,from_name, to_name):\n",
    "        self.dep_matrix[from_name][to_name] = True\n",
    "\n",
    "class EventDataloader:\n",
    "    def __init__(self,path, verbose = 0):\n",
    "        with open(path,) as f:\n",
    "            data = json.load(f)\n",
    "        start_time = functools.reduce( lambda x, y: x if x['ts'] < y['ts'] else y, data)['ts']\n",
    "        for entry in data:\n",
    "            ts = 0\n",
    "            if entry['args']['timestamp'] != '[]': \n",
    "                ts = int(entry['args']['timestamp'][1:-1])\n",
    "            entry['args']['timestamp'] = ts \n",
    "            entry['ts'] -= start_time\n",
    "        self.data = data\n",
    "        if verbose > 0:\n",
    "            print (f\"Times are relative to UNIX time: {start_time}; \\n first event in replay starts at {data[0]['ts']} and end at {data[-1]['ts']}\")\n",
    "            print (f\"There are {len(data)} events.\")\n",
    "        ids = list({ entry['args']['timestamp'] for entry in data })\n",
    "        ids.sort()\n",
    "        self.ids = ids\n",
    "        if verbose > 0:\n",
    "            print (f\" There are {len(ids)} logical time labels ending with {ids[-1]}\")\n",
    "        self.ops_converter = OpsConverter(data, lambda name: True if ('rcnn' in name or 'lanenet' in name) else False)\n",
    "        self.event_from_log = [ \n",
    "             Event(idx,\n",
    "                   self.ops_converter.get_id(entry['name']), \n",
    "                   entry['ts'],\n",
    "                   actual_runtime = entry['dur'], \n",
    "                   deadline=None, \n",
    "                   needs_gpu=self.ops_converter.get_gpu(entry['name'])\n",
    "                  ) \n",
    "             for idx, entry in enumerate(data)\n",
    "        ]\n",
    "        self.lattice = Lattice([Operator(idx, [], 10, needs_gpu = needs_gpu , name = name) \n",
    "                                for idx,name,needs_gpu in self.ops_converter.get_all_ops()])\n",
    "    def get_data(self):\n",
    "        return self.data\n",
    "    def get_data_as_binned(self):\n",
    "        # prolly use this to build dependency matrix; for now online computed cause it's expensive\n",
    "        return [ [ entry for entry in self.data if entry['args']['timestamp'] == ts] for ts in self.ids]\n",
    "    def get_ops_converter(self):\n",
    "        return self.ops_converter\n",
    "    def get_event_list(self):\n",
    "        return self.event_from_log\n",
    "    def get_lattice(self):\n",
    "        return self.lattice\n",
    "    "
   ]
  },
  {
   "cell_type": "code",
   "execution_count": 3,
   "id": "c4426a02",
   "metadata": {},
   "outputs": [
    {
     "name": "stdout",
     "output_type": "stream",
     "text": [
      "Times are relative to UNIX time: 1625637636138946; \n",
      " first event in replay starts at 0 and end at 439448724\n",
      "There are 18459 events.\n",
      " There are 924 logical time labels ending with 52961\n"
     ]
    }
   ],
   "source": [
    "events = EventDataloader(\"pylot_profile.json\", verbose = 1)"
   ]
  },
  {
   "cell_type": "code",
   "execution_count": 4,
   "id": "45e7b3d7",
   "metadata": {},
   "outputs": [
    {
     "data": {
      "text/plain": [
       "[(0, 'behavior_planning.on_watermark', False), (1, 'center_camera_location_finder_history_operator.on_watermark', False), (2, 'center_camera_operator.process_images', False), (3, 'center_camera_operator.release_data', False), (4, 'faster-rcnn.on_msg_camera_stream', True), (5, 'front_center_lidar_operator.process_point_clouds', False), (6, 'gnss_operator.process_gnss', False), (7, 'imu_operator.process_imu', False), (8, 'lanenet_lane_detection.on_camera_frame', True), (9, 'linear_prediction_operator.generate_predicted_trajectories', False), (10, 'localization_operator.on_watermark', False), (11, 'pid_control_operator.on_watermark', False), (12, 'planning_operator.on_prediction_update', False), (13, 'planning_operator.on_time_to_decision', False), (14, 'planning_operator.on_watermark', False), (15, 'simulator_bridge_operator.on_control_msg', False), (16, 'simulator_bridge_operator.send_actor_data', False), (17, 'tracker_sort.on_watermark', False), (18, 'traffic_light_camera_location_finder_operator.on_watermark', False), (19, 'traffic_light_camera_operator.process_images', False), (20, 'traffic_light_camera_operator.release_data', False), (21, 'traffic_light_detector_operator.on_frame', False)]"
      ]
     },
     "execution_count": 4,
     "metadata": {},
     "output_type": "execute_result"
    }
   ],
   "source": [
    "\n",
    "events.get_ops_converter()"
   ]
  },
  {
   "cell_type": "code",
   "execution_count": 5,
   "id": "19ad6d0d",
   "metadata": {},
   "outputs": [],
   "source": [
    "b = [(entry['name'], entry['args'], entry['ts']) for entry in events.get_data_as_binned()[-2]]"
   ]
  },
  {
   "cell_type": "code",
   "execution_count": 6,
   "id": "0e59a07d",
   "metadata": {},
   "outputs": [
    {
     "data": {
      "text/plain": [
       "[('gnss_operator.process_gnss', {'timestamp': 52911}, 438543587),\n",
       " ('front_center_lidar_operator.process_point_clouds',\n",
       "  {'timestamp': 52911},\n",
       "  438557720),\n",
       " ('simulator_bridge_operator.send_actor_data',\n",
       "  {'timestamp': 52911},\n",
       "  438539467),\n",
       " ('imu_operator.process_imu', {'timestamp': 52911}, 438587383),\n",
       " ('localization_operator.on_watermark', {'timestamp': 52911}, 438588697),\n",
       " ('behavior_planning.on_watermark', {'timestamp': 52911}, 438591248),\n",
       " ('planning_operator.on_time_to_decision', {'timestamp': 52911}, 438591830),\n",
       " ('traffic_light_camera_operator.process_images',\n",
       "  {'timestamp': 52911},\n",
       "  438751770),\n",
       " ('center_camera_operator.process_images', {'timestamp': 52911}, 438754872),\n",
       " ('faster-rcnn.on_msg_camera_stream', {'timestamp': 52911}, 438796827),\n",
       " ('tracker_sort.on_watermark', {'timestamp': 52911}, 438877905),\n",
       " ('traffic_light_detector_operator.on_frame', {'timestamp': 52911}, 438786973),\n",
       " ('traffic_light_camera_location_finder_operator.on_watermark',\n",
       "  {'timestamp': 52911},\n",
       "  438883667),\n",
       " ('center_camera_location_finder_history_operator.on_watermark',\n",
       "  {'timestamp': 52911},\n",
       "  438881400),\n",
       " ('linear_prediction_operator.generate_predicted_trajectories',\n",
       "  {'timestamp': 52911},\n",
       "  438887639),\n",
       " ('planning_operator.on_prediction_update', {'timestamp': 52911}, 438893687),\n",
       " ('lanenet_lane_detection.on_camera_frame', {'timestamp': 52911}, 438796611),\n",
       " ('planning_operator.on_watermark', {'timestamp': 52911}, 438992036),\n",
       " ('pid_control_operator.on_watermark', {'timestamp': 52911}, 439190116),\n",
       " ('simulator_bridge_operator.on_control_msg', {'timestamp': 52911}, 439191360)]"
      ]
     },
     "execution_count": 6,
     "metadata": {},
     "output_type": "execute_result"
    }
   ],
   "source": [
    "b"
   ]
  },
  {
   "cell_type": "code",
   "execution_count": 7,
   "id": "003deb68",
   "metadata": {},
   "outputs": [
    {
     "data": {
      "text/plain": [
       "{'name': 'center_camera_operator.release_data',\n",
       " 'pid': 'center_camera_operator',\n",
       " 'tid': 1,\n",
       " 'ts': 0,\n",
       " 'dur': 39,\n",
       " 'ph': 'X',\n",
       " 'args': {'timestamp': 0}}"
      ]
     },
     "execution_count": 7,
     "metadata": {},
     "output_type": "execute_result"
    }
   ],
   "source": [
    "events.get_data()[0]"
   ]
  },
  {
   "cell_type": "code",
   "execution_count": 8,
   "id": "570e850b",
   "metadata": {},
   "outputs": [
    {
     "data": {
      "text/plain": [
       "[<Event 0; Running Op 3; Available at Time 0; Executed None to None; Deadline: None>,\n",
       " <Event 1; Running Op 20; Available at Time 886; Executed None to None; Deadline: None>,\n",
       " <Event 2; Running Op 6; Available at Time 4009432; Executed None to None; Deadline: None>,\n",
       " <Event 3; Running Op 5; Available at Time 4026421; Executed None to None; Deadline: None>,\n",
       " <Event 4; Running Op 7; Available at Time 4052420; Executed None to None; Deadline: None>]"
      ]
     },
     "execution_count": 8,
     "metadata": {},
     "output_type": "execute_result"
    }
   ],
   "source": [
    "events.get_event_list()[0:5]"
   ]
  },
  {
   "cell_type": "code",
   "execution_count": 9,
   "id": "8ef7dc1d",
   "metadata": {
    "scrolled": true
   },
   "outputs": [
    {
     "data": {
      "text/plain": [
       "Lattice {0: [], 1: [], 2: [], 3: [], 4: [], 5: [], 6: [], 7: [], 8: [], 9: [], 10: [], 11: [], 12: [], 13: [], 14: [], 15: [], 16: [], 17: [], 18: [], 19: [], 20: [], 21: []}"
      ]
     },
     "execution_count": 9,
     "metadata": {},
     "output_type": "execute_result"
    }
   ],
   "source": [
    "events.get_lattice()"
   ]
  },
  {
   "cell_type": "code",
   "execution_count": 10,
   "id": "63dc08d0",
   "metadata": {},
   "outputs": [],
   "source": [
    "class Emulator: \n",
    "    def __init__(self):\n",
    "        self.assignment = [] # list of worker_id X task_id \n",
    "        self.release = 0 # time when assignment is made available\n",
    "    def set_schedule (schedule,task_set,worker_pool,dependencies,timeout,v=0):\n",
    "        \"\"\"\n",
    "            schedule -- scheduling function\n",
    "            task_set -- list of tasks\n",
    "            worker_pool -- workers to be given events\n",
    "            dependencies -- matrix of dependencies between tasks\n",
    "        \"\"\"\n",
    "        start = time.time()\n",
    "        self.assignments, self.release = schedule(task_set, worker_pool, dependencies, timeout)\n",
    "        end = time.time()\n",
    "    def get_schedule(curr_time):\n",
    "        if curr_time >= self.release:\n",
    "            return self.assignment\n",
    "        else:\n",
    "            return None\n",
    "    def reset():\n",
    "        self.__init__()\n",
    "\n",
    "class Simulator:\n",
    "    def __init__( self, num_cpu, num_gpu, events_list, lattice):\n",
    "        '''\n",
    "            num_cpu -- number of cpus\n",
    "            num_gpu -- number of gpus\n",
    "            events_list -- list of Events\n",
    "            lattice -- lattice :: default one would just have operators not connected to each other\n",
    "        '''\n",
    "        self.events_list = events_list.copy()\n",
    "        self.worker_pool = WorkerPool([Worker(i, gpus=(1 if i < num_gpu else 0)) for i in range(num_cpu + num_gpu)])\n",
    "        self.lattice = deepcopy(lattice)\n",
    "        self.emulator = Emulator()\n",
    "        self.current_time = 0\n",
    "        self.current_events = []\n",
    "        \n",
    "    def simulate(self,timeout, replay_log, deps):\n",
    "        # set up \n",
    "        for current_time in range(timeout):\n",
    "            self.step()\n",
    "            \n",
    "    def step(self): \n",
    "        # first determine if there's new tasks to be made visible\n",
    "        # second determine where to place tasks\n",
    "        # finally advance the workers and time\n",
    "        pass\n",
    "    def simulate(self,schedule, timeout,v=0):\n",
    "        if not self.events_list:\n",
    "            return\n",
    "        self.events_list.sort(key=(lambda e: e.arrival_time))\n",
    "        event_queue = []\n",
    "        for time in range(timeout):\n",
    "            if v:\n",
    "                print (\"step: {}\".format(time))\n",
    "            while len(self.events_list) != 0 and  self.events_list[0].arrival_time == time:\n",
    "                task = self.events_list.pop(0)\n",
    "                print (\"Activate: {}\".format(task))\n",
    "                event_queue.append(task)\n",
    "            schedule(time,event_queue,self.lattice,self.worker_pool,timeout)"
   ]
  },
  {
   "cell_type": "code",
   "execution_count": 11,
   "id": "455ffa19",
   "metadata": {},
   "outputs": [],
   "source": [
    "s = Simulator(2,1,events.get_event_list()[0:10], events.get_lattice())"
   ]
  },
  {
   "cell_type": "code",
   "execution_count": 16,
   "id": "5e132b64",
   "metadata": {},
   "outputs": [
    {
     "name": "stdout",
     "output_type": "stream",
     "text": [
      "Activate: <Event 2; Running Op 6; Available at Time 4009432; Executed None to None; Deadline: None>\n",
      "finished event: <Event 2; Running Op 6; Available at Time 4009432; Executed 4009432 to 4010916; Deadline: None>\n",
      "Activate: <Event 3; Running Op 5; Available at Time 4026421; Executed None to None; Deadline: None>\n",
      "finished event: <Event 3; Running Op 5; Available at Time 4026421; Executed 4026421 to 4030068; Deadline: None>\n",
      "Activate: <Event 4; Running Op 7; Available at Time 4052420; Executed None to None; Deadline: None>\n",
      "finished event: <Event 4; Running Op 7; Available at Time 4052420; Executed 4052420 to 4053894; Deadline: None>\n",
      "Activate: <Event 7; Running Op 16; Available at Time 4055579; Executed None to None; Deadline: None>\n",
      "Activate: <Event 5; Running Op 10; Available at Time 4058387; Executed None to None; Deadline: None>\n",
      "finished event: <Event 5; Running Op 10; Available at Time 4058387; Executed 4058387 to 4059417; Deadline: None>\n",
      "Activate: <Event 8; Running Op 0; Available at Time 4060117; Executed None to None; Deadline: None>\n",
      "Activate: <Event 6; Running Op 13; Available at Time 4062088; Executed None to None; Deadline: None>\n",
      "finished event: <Event 6; Running Op 13; Available at Time 4062088; Executed 4062088 to 4062264; Deadline: None>\n",
      "finished event: <Event 7; Running Op 16; Available at Time 4055579; Executed 4055579 to 4082815; Deadline: None>\n",
      "finished event: <Event 8; Running Op 0; Available at Time 4060117; Executed 4060117 to 4105124; Deadline: None>\n",
      "Activate: <Event 9; Running Op 19; Available at Time 4228295; Executed None to None; Deadline: None>\n"
     ]
    }
   ],
   "source": [
    "s.simulate(fifo_schedule, 4228295 + 100)"
   ]
  },
  {
   "cell_type": "code",
   "execution_count": 13,
   "id": "68b12173",
   "metadata": {},
   "outputs": [],
   "source": [
    "l = events.get_lattice()"
   ]
  },
  {
   "cell_type": "code",
   "execution_count": 14,
   "id": "c7c3a487",
   "metadata": {},
   "outputs": [
    {
     "data": {
      "text/plain": [
       "Lattice {0: [], 1: [], 2: [], 3: [], 4: [], 5: [], 6: [], 7: [], 8: [], 9: [], 10: [], 11: [], 12: [], 13: [], 14: [], 15: [], 16: [], 17: [], 18: [], 19: [], 20: [], 21: []}"
      ]
     },
     "execution_count": 14,
     "metadata": {},
     "output_type": "execute_result"
    }
   ],
   "source": [
    "deepcopy(l)"
   ]
  },
  {
   "cell_type": "code",
   "execution_count": 15,
   "id": "0b3d0b02",
   "metadata": {},
   "outputs": [
    {
     "data": {
      "text/plain": [
       "[<Event 2; Running Op 6; Available at Time 4009432; Executed None to None; Deadline: None>,\n",
       " <Event 3; Running Op 5; Available at Time 4026421; Executed None to None; Deadline: None>,\n",
       " <Event 4; Running Op 7; Available at Time 4052420; Executed None to None; Deadline: None>,\n",
       " <Event 7; Running Op 16; Available at Time 4055579; Executed None to None; Deadline: None>,\n",
       " <Event 5; Running Op 10; Available at Time 4058387; Executed None to None; Deadline: None>,\n",
       " <Event 8; Running Op 0; Available at Time 4060117; Executed None to None; Deadline: None>,\n",
       " <Event 6; Running Op 13; Available at Time 4062088; Executed None to None; Deadline: None>,\n",
       " <Event 9; Running Op 19; Available at Time 4228295; Executed None to None; Deadline: None>]"
      ]
     },
     "execution_count": 15,
     "metadata": {},
     "output_type": "execute_result"
    }
   ],
   "source": [
    "s.events_list"
   ]
  },
  {
   "cell_type": "code",
   "execution_count": null,
   "id": "d22410fb",
   "metadata": {},
   "outputs": [],
   "source": []
  }
 ],
 "metadata": {
  "kernelspec": {
   "display_name": "Python 3",
   "language": "python",
   "name": "python3"
  },
  "language_info": {
   "codemirror_mode": {
    "name": "ipython",
    "version": 3
   },
   "file_extension": ".py",
   "mimetype": "text/x-python",
   "name": "python",
   "nbconvert_exporter": "python",
   "pygments_lexer": "ipython3",
   "version": "3.8.8"
  }
 },
 "nbformat": 4,
 "nbformat_minor": 5
}
