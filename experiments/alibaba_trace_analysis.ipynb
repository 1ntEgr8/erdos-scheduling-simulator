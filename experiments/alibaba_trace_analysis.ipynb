{
 "cells": [
  {
   "cell_type": "code",
   "execution_count": 4,
   "metadata": {},
   "outputs": [
    {
     "name": "stdout",
     "output_type": "stream",
     "text": [
      "avg slots per task: 1.00, std: 0.06, median: 1.00, max: 8.00\n",
      "avg tasks_per_job_graph: 3.78, std: 4.73, median: 2.00, max: 203.00\n",
      "Total # of tasks: 11977619\n",
      "# of tasks with slot > 1: 5181\n",
      "jobs having tasks with more than one slot: 1437\n",
      "avg slots per task for task in such jobs: 2.92, std: 1.93, median: 2.00\n",
      "avg tasks_per_job_graph: 12.43, std: 6.12, median: 16.00\n"
     ]
    }
   ],
   "source": [
    "# Find interesting jobs with high # of tasks and high # of slots/resource usage\n",
    "# Log task graph release time in simulator.py for normal run\n",
    "\n",
    "from collections import namedtuple\n",
    "import math\n",
    "import os\n",
    "import pickle\n",
    "import numpy as np\n",
    "\n",
    "Task = namedtuple(\n",
    "    \"Task\",\n",
    "    field_names=\"name,job,instances,status,start_time,end_time,duration,cpu,mem\",\n",
    ")\n",
    "\n",
    "# First, find the distribution of tasks per job graph and slots per task\n",
    "slots = []\n",
    "tasks_per_job_graph = []\n",
    "\n",
    "jobs_having_tasks_with_more_than_one_slot = {}\n",
    "slots_in_jobs_having_tasks_with_more_than_one_slot = []\n",
    "\n",
    "for filename in os.listdir(\"../traces/alibaba-cluster-trace-v2018/job_dag_files_6600_groups\"):\n",
    "    with open(f\"../traces/alibaba-cluster-trace-v2018/job_dag_files_6600_groups/{filename}\", \"rb\") as pickled_file:\n",
    "        data = pickle.load(pickled_file)    \n",
    "        for job_graph_name, job_tasks in data.items():\n",
    "            tasks_per_job_graph.append(len(job_tasks))\n",
    "            try:\n",
    "                has_tasks_with_more_than_one_slot = False\n",
    "                for task in job_tasks:\n",
    "                    slot_usage = int(math.ceil(task.cpu / 25))\n",
    "                    slots.append(slot_usage)\n",
    "                    if slot_usage > 1:\n",
    "                        has_tasks_with_more_than_one_slot = True\n",
    "                        slots_in_jobs_having_tasks_with_more_than_one_slot.append(slot_usage)\n",
    "                if has_tasks_with_more_than_one_slot:\n",
    "                    jobs_having_tasks_with_more_than_one_slot[job_graph_name] = job_tasks\n",
    "            except:\n",
    "                continue\n",
    "\n",
    "slots.sort()\n",
    "tasks_per_job_graph.sort()\n",
    "print(f\"avg slots per task: {np.mean(slots):.2f}, std: {np.std(slots):.2f}, median: {np.median(slots):.2f}, max: {np.max(slots):.2f}\")\n",
    "print(f\"avg tasks_per_job_graph: {np.mean(tasks_per_job_graph):.2f}, std: {np.std(tasks_per_job_graph):.2f}, median: {np.median(tasks_per_job_graph):.2f}, max: {np.max(tasks_per_job_graph):.2f}\")\n",
    "print(f\"Total # of tasks: {len(slots)}\")\n",
    "print(f\"# of tasks with slot > 1: {len([x for x in slots if x > 1])}\")\n",
    "\n",
    "print(f\"jobs having tasks with more than one slot: {len(jobs_having_tasks_with_more_than_one_slot)}\")\n",
    "print(f\"avg slots per task for task in such jobs: {np.mean(slots_in_jobs_having_tasks_with_more_than_one_slot):.2f}, std: {np.std(slots_in_jobs_having_tasks_with_more_than_one_slot):.2f}, median: {np.median(slots_in_jobs_having_tasks_with_more_than_one_slot):.2f}\")\n",
    "tasks_per_job_graph_for_jobs_with_high_slot_usage = [len(job_tasks) for job_tasks in jobs_having_tasks_with_more_than_one_slot.values()]\n",
    "print(f\"avg tasks_per_job_graph: {np.mean(tasks_per_job_graph_for_jobs_with_high_slot_usage):.2f}, std: {np.std(tasks_per_job_graph_for_jobs_with_high_slot_usage):.2f}, median: {np.median(tasks_per_job_graph_for_jobs_with_high_slot_usage):.2f}\")"
   ]
  },
  {
   "cell_type": "code",
   "execution_count": null,
   "metadata": {},
   "outputs": [],
   "source": [
    "# save jobs_having_tasks_with_more_than_one_slot as pkl\n",
    "with open(\"../traces/alibaba-cluster-trace-v2018/jobs_having_tasks_with_more_than_one_slot.pkl\", \"wb\") as f:\n",
    "    pickle.dump(jobs_having_tasks_with_more_than_one_slot, f)"
   ]
  },
  {
   "cell_type": "code",
   "execution_count": null,
   "metadata": {},
   "outputs": [],
   "source": [
    "import matplotlib.pyplot as plt\n",
    "\n",
    "plt.hist(slots_in_jobs_having_tasks_with_more_than_one_slot)\n",
    "plt.xlabel(\"Slots\")\n",
    "plt.ylabel(\"Count\")\n",
    "plt.title(\"Task slots distribution for jobs having tasks with more than one slot\")\n",
    "plt.show()"
   ]
  },
  {
   "cell_type": "code",
   "execution_count": null,
   "metadata": {},
   "outputs": [],
   "source": []
  },
  {
   "cell_type": "code",
   "execution_count": 10,
   "metadata": {},
   "outputs": [
    {
     "name": "stdout",
     "output_type": "stream",
     "text": [
      "avg slots per task: 3.15, std: 1.00, median: 4.00, max: 20.00\n",
      "avg tasks_per_job_graph: 3.82, std: 4.69, median: 2.00, max: 72.00\n",
      "Total # of tasks: 25134\n",
      "# of tasks with slot > 1: 25134\n",
      "jobs having tasks with more than one slot: 6588\n",
      "avg slots per task for task in such jobs: 3.15, std: 1.00, median: 4.00\n",
      "avg tasks_per_job_graph: 3.81, std: 4.69, median: 2.00\n"
     ]
    }
   ],
   "source": [
    "# Find interesting jobs with high # of tasks and high # of slots/resource usage\n",
    "# Log task graph release time in simulator.py for normal run\n",
    "\n",
    "from collections import namedtuple\n",
    "import math\n",
    "import os\n",
    "import pickle\n",
    "import numpy as np\n",
    "\n",
    "Task = namedtuple(\n",
    "    \"Task\",\n",
    "    field_names=\"name,job,instances,status,start_time,end_time,duration,cpu,mem\",\n",
    ")\n",
    "\n",
    "# First, find the distribution of tasks per job graph and slots per task\n",
    "slots = []\n",
    "tasks_per_job_graph = []\n",
    "\n",
    "jobs_having_tasks_with_more_than_one_slot = {}\n",
    "slots_in_jobs_having_tasks_with_more_than_one_slot = []\n",
    "\n",
    "with open(f\"../traces/alibaba-cluster-trace-v2018/alibaba_set_0_6600_dags.pkl\", \"rb\") as pickled_file:\n",
    "    data = pickle.load(pickled_file)    \n",
    "    for job_graph_name, job_tasks in data.items():\n",
    "        tasks_per_job_graph.append(len(job_tasks))\n",
    "        try:\n",
    "            has_tasks_with_more_than_one_slot = False\n",
    "            for task in job_tasks:\n",
    "                slot_usage = int(math.ceil(task.cpu / 25))\n",
    "                slots.append(slot_usage)\n",
    "                if slot_usage > 1:\n",
    "                    has_tasks_with_more_than_one_slot = True\n",
    "                    slots_in_jobs_having_tasks_with_more_than_one_slot.append(slot_usage)\n",
    "            if has_tasks_with_more_than_one_slot:\n",
    "                jobs_having_tasks_with_more_than_one_slot[job_graph_name] = job_tasks\n",
    "        except:\n",
    "            continue\n",
    "\n",
    "slots.sort()\n",
    "tasks_per_job_graph.sort()\n",
    "print(f\"avg slots per task: {np.mean(slots):.2f}, std: {np.std(slots):.2f}, median: {np.median(slots):.2f}, max: {np.max(slots):.2f}\")\n",
    "print(f\"avg tasks_per_job_graph: {np.mean(tasks_per_job_graph):.2f}, std: {np.std(tasks_per_job_graph):.2f}, median: {np.median(tasks_per_job_graph):.2f}, max: {np.max(tasks_per_job_graph):.2f}\")\n",
    "print(f\"Total # of tasks: {len(slots)}\")\n",
    "print(f\"# of tasks with slot > 1: {len([x for x in slots if x > 1])}\")\n",
    "\n",
    "print(f\"jobs having tasks with more than one slot: {len(jobs_having_tasks_with_more_than_one_slot)}\")\n",
    "print(f\"avg slots per task for task in such jobs: {np.mean(slots_in_jobs_having_tasks_with_more_than_one_slot):.2f}, std: {np.std(slots_in_jobs_having_tasks_with_more_than_one_slot):.2f}, median: {np.median(slots_in_jobs_having_tasks_with_more_than_one_slot):.2f}\")\n",
    "tasks_per_job_graph_for_jobs_with_high_slot_usage = [len(job_tasks) for job_tasks in jobs_having_tasks_with_more_than_one_slot.values()]\n",
    "print(f\"avg tasks_per_job_graph: {np.mean(tasks_per_job_graph_for_jobs_with_high_slot_usage):.2f}, std: {np.std(tasks_per_job_graph_for_jobs_with_high_slot_usage):.2f}, median: {np.median(tasks_per_job_graph_for_jobs_with_high_slot_usage):.2f}\")"
   ]
  },
  {
   "cell_type": "code",
   "execution_count": 12,
   "metadata": {},
   "outputs": [
    {
     "data": {
      "image/png": "[encoded data removed]",
      "text/plain": [
       "<Figure size 640x480 with 1 Axes>"
      ]
     },
     "metadata": {},
     "output_type": "display_data"
    }
   ],
   "source": [
    "import matplotlib.pyplot as plt\n",
    "\n",
    "plt.hist(slots, range=(0, 10))\n",
    "plt.xlabel(\"Slots\")\n",
    "plt.ylabel(\"Count\")\n",
    "plt.title(\"Task slots distribution for jobs having tasks with more than one slot\")\n",
    "plt.show()"
   ]
  },
  {
   "cell_type": "code",
   "execution_count": null,
   "metadata": {},
   "outputs": [],
   "source": []
  }
 ],
 "metadata": {
  "kernelspec": {
   "display_name": "ray",
   "language": "python",
   "name": "python3"
  },
  "language_info": {
   "codemirror_mode": {
    "name": "ipython",
    "version": 3
   },
   "file_extension": ".py",
   "mimetype": "text/x-python",
   "name": "python",
   "nbconvert_exporter": "python",
   "pygments_lexer": "ipython3",
   "version": "3.9.18"
  }
 },
 "nbformat": 4,
 "nbformat_minor": 2
}
